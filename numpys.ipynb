{
  "nbformat": 4,
  "nbformat_minor": 0,
  "metadata": {
    "colab": {
      "provenance": [],
      "authorship_tag": "ABX9TyP9Etqc56Ay2HWx0wKpTGPv",
      "include_colab_link": true
    },
    "kernelspec": {
      "name": "python3",
      "display_name": "Python 3"
    },
    "language_info": {
      "name": "python"
    }
  },
  "cells": [
    {
      "cell_type": "markdown",
      "metadata": {
        "id": "view-in-github",
        "colab_type": "text"
      },
      "source": [
        "<a href=\"https://colab.research.google.com/github/Davron030901/Numpy/blob/main/numpys.ipynb\" target=\"_parent\"><img src=\"https://colab.research.google.com/assets/colab-badge.svg\" alt=\"Open In Colab\"/></a>"
      ]
    },
    {
      "cell_type": "code",
      "execution_count": 1,
      "metadata": {
        "id": "6TB3S7EawjJj"
      },
      "outputs": [],
      "source": [
        "import numpy as np"
      ]
    },
    {
      "cell_type": "code",
      "source": [
        "birlik=np.ones(shape=(3,3) ,dtype=np.int8)\n",
        "print(birlik)"
      ],
      "metadata": {
        "colab": {
          "base_uri": "https://localhost:8080/"
        },
        "id": "0kFPe05AwkIu",
        "outputId": "45f474b8-c4eb-4830-da08-0ea382226bed"
      },
      "execution_count": 2,
      "outputs": [
        {
          "output_type": "stream",
          "name": "stdout",
          "text": [
            "[[1 1 1]\n",
            " [1 1 1]\n",
            " [1 1 1]]\n"
          ]
        }
      ]
    },
    {
      "cell_type": "code",
      "source": [
        "zer=np.zeros(shape=(3,3) ,dtype=np.int8)\n",
        "print(zer)"
      ],
      "metadata": {
        "colab": {
          "base_uri": "https://localhost:8080/"
        },
        "id": "XJY-3J-3wr-k",
        "outputId": "cd27c7cc-be1b-490a-a7eb-3045166f19a0"
      },
      "execution_count": 3,
      "outputs": [
        {
          "output_type": "stream",
          "name": "stdout",
          "text": [
            "[[0 0 0]\n",
            " [0 0 0]\n",
            " [0 0 0]]\n"
          ]
        }
      ]
    },
    {
      "cell_type": "code",
      "source": [
        "# Davlat  Country\n",
        "koz=np.eye(N=5,M=8,dtype=np.int8,k=5)\n",
        "print(koz)"
      ],
      "metadata": {
        "colab": {
          "base_uri": "https://localhost:8080/"
        },
        "id": "EfbSiuxHwsmu",
        "outputId": "2662c2b6-f031-474e-e5e3-c58759e328b0"
      },
      "execution_count": 11,
      "outputs": [
        {
          "output_type": "stream",
          "name": "stdout",
          "text": [
            "[[0 0 0 0 0 1 0 0]\n",
            " [0 0 0 0 0 0 1 0]\n",
            " [0 0 0 0 0 0 0 1]\n",
            " [0 0 0 0 0 0 0 0]\n",
            " [0 0 0 0 0 0 0 0]]\n"
          ]
        }
      ]
    },
    {
      "cell_type": "code",
      "source": [
        "# Identy Kvadratik\n",
        "iden=np.identity(12,dtype=np.int8)\n",
        "print(iden)"
      ],
      "metadata": {
        "colab": {
          "base_uri": "https://localhost:8080/"
        },
        "id": "4vzkkSTJxCjG",
        "outputId": "1969cf0a-0144-46fc-d3e8-115bd8832971"
      },
      "execution_count": 8,
      "outputs": [
        {
          "output_type": "stream",
          "name": "stdout",
          "text": [
            "[[1 0 0 0 0 0 0 0 0 0 0 0]\n",
            " [0 1 0 0 0 0 0 0 0 0 0 0]\n",
            " [0 0 1 0 0 0 0 0 0 0 0 0]\n",
            " [0 0 0 1 0 0 0 0 0 0 0 0]\n",
            " [0 0 0 0 1 0 0 0 0 0 0 0]\n",
            " [0 0 0 0 0 1 0 0 0 0 0 0]\n",
            " [0 0 0 0 0 0 1 0 0 0 0 0]\n",
            " [0 0 0 0 0 0 0 1 0 0 0 0]\n",
            " [0 0 0 0 0 0 0 0 1 0 0 0]\n",
            " [0 0 0 0 0 0 0 0 0 1 0 0]\n",
            " [0 0 0 0 0 0 0 0 0 0 1 0]\n",
            " [0 0 0 0 0 0 0 0 0 0 0 1]]\n"
          ]
        }
      ]
    },
    {
      "cell_type": "code",
      "source": [
        "lina =np.linspace(10,150,15,dtype=np.uint8) # faqat musbat integer step 10 None\n",
        "print(lina)"
      ],
      "metadata": {
        "colab": {
          "base_uri": "https://localhost:8080/"
        },
        "id": "sBup0KXRxVuE",
        "outputId": "f6f011f8-9fbc-4380-f284-0c1d825adc66"
      },
      "execution_count": 14,
      "outputs": [
        {
          "output_type": "stream",
          "name": "stdout",
          "text": [
            "[ 10  20  30  40  50  60  70  80  90 100 110 120 130 140 150]\n"
          ]
        }
      ]
    },
    {
      "cell_type": "code",
      "source": [
        "lina =np.linspace(10,150,15,dtype=np.uint8,endpoint=False) # faqat musbat integer step 50 None\n",
        "print(lina)"
      ],
      "metadata": {
        "colab": {
          "base_uri": "https://localhost:8080/"
        },
        "id": "7cimglTzz5t3",
        "outputId": "35e5beca-dd56-470a-ac3a-e7c881ae8c54"
      },
      "execution_count": 15,
      "outputs": [
        {
          "output_type": "stream",
          "name": "stdout",
          "text": [
            "[ 10  19  28  38  47  56  66  75  84  94 103 112 122 131 140]\n"
          ]
        }
      ]
    },
    {
      "cell_type": "code",
      "source": [
        "tas=np.random.random(size=(3,5))\n",
        "print(tas)"
      ],
      "metadata": {
        "colab": {
          "base_uri": "https://localhost:8080/"
        },
        "id": "FvIhSVpf03qQ",
        "outputId": "3466ad6e-58f4-406c-b30e-fc59a8d1ac3e"
      },
      "execution_count": 23,
      "outputs": [
        {
          "output_type": "stream",
          "name": "stdout",
          "text": [
            "[[0.26905773 0.07839252 0.02473503 0.56259401 0.30321428]\n",
            " [0.96742625 0.25222843 0.35838196 0.37858605 0.54387569]\n",
            " [0.87585819 0.48620958 0.16718374 0.2463959  0.51918491]]\n"
          ]
        }
      ]
    },
    {
      "cell_type": "code",
      "source": [
        "n=np.random.rand(23)\n",
        "print(n)"
      ],
      "metadata": {
        "colab": {
          "base_uri": "https://localhost:8080/"
        },
        "id": "ovU21WUp17hG",
        "outputId": "42c707c3-de5b-4004-c526-a9f7ad9a6eb4"
      },
      "execution_count": 24,
      "outputs": [
        {
          "output_type": "stream",
          "name": "stdout",
          "text": [
            "[0.86704787 0.05105467 0.74237753 0.22940172 0.92229534 0.83664012\n",
            " 0.51764909 0.41418843 0.71012048 0.9334675  0.66336035 0.54815303\n",
            " 0.52842412 0.27175794 0.56213535 0.3681688  0.29597631 0.66945289\n",
            " 0.29222165 0.08347637 0.32223554 0.28336037 0.05316638]\n"
          ]
        }
      ]
    },
    {
      "cell_type": "code",
      "source": [
        "rande=np.random.randint(10,100,size=(3,5))\n",
        "print(rande)"
      ],
      "metadata": {
        "colab": {
          "base_uri": "https://localhost:8080/"
        },
        "id": "64tdb9SR2Gc0",
        "outputId": "ac377978-170f-4c24-a916-97d5f9327bc5"
      },
      "execution_count": 25,
      "outputs": [
        {
          "output_type": "stream",
          "name": "stdout",
          "text": [
            "[[41 47 15 77 73]\n",
            " [58 59 95 73 84]\n",
            " [58 34 61 23 50]]\n"
          ]
        }
      ]
    },
    {
      "cell_type": "code",
      "source": [
        "randr=np.random.seed(123)\n",
        "randr=np.random.random(34)\n",
        "print(randr)"
      ],
      "metadata": {
        "colab": {
          "base_uri": "https://localhost:8080/"
        },
        "id": "6TSG8bzz3cP2",
        "outputId": "81798956-4d40-43aa-a933-0dabe16226a3"
      },
      "execution_count": 28,
      "outputs": [
        {
          "output_type": "stream",
          "name": "stdout",
          "text": [
            "[0.69646919 0.28613933 0.22685145 0.55131477 0.71946897 0.42310646\n",
            " 0.9807642  0.68482974 0.4809319  0.39211752 0.34317802 0.72904971\n",
            " 0.43857224 0.0596779  0.39804426 0.73799541 0.18249173 0.17545176\n",
            " 0.53155137 0.53182759 0.63440096 0.84943179 0.72445532 0.61102351\n",
            " 0.72244338 0.32295891 0.36178866 0.22826323 0.29371405 0.63097612\n",
            " 0.09210494 0.43370117 0.43086276 0.4936851 ]\n"
          ]
        }
      ]
    },
    {
      "cell_type": "code",
      "source": [
        "randnor=np.random.normal(0.6,0.1,100000)\n",
        "print(randnor)"
      ],
      "metadata": {
        "colab": {
          "base_uri": "https://localhost:8080/"
        },
        "id": "i9M2Fgnt3lwB",
        "outputId": "5d20434d-cba8-44a4-fda2-68bfcd450e02"
      },
      "execution_count": 35,
      "outputs": [
        {
          "output_type": "stream",
          "name": "stdout",
          "text": [
            "[0.57159717 0.64075765 0.48113562 ... 0.56719757 0.55609816 0.62413391]\n"
          ]
        }
      ]
    },
    {
      "cell_type": "code",
      "source": [
        "import matplotlib.pyplot as plt\n",
        "plt.hist(randnor)\n",
        "plt.show()"
      ],
      "metadata": {
        "colab": {
          "base_uri": "https://localhost:8080/",
          "height": 430
        },
        "id": "aqOjsZ4F79Ov",
        "outputId": "15725d4c-066d-43ae-f133-e3d38a573b63"
      },
      "execution_count": 37,
      "outputs": [
        {
          "output_type": "display_data",
          "data": {
            "text/plain": [
              "<Figure size 640x480 with 1 Axes>"
            ],
            "image/png": "[encoded data removed]"
          },
          "metadata": {}
        }
      ]
    },
    {
      "cell_type": "code",
      "source": [],
      "metadata": {
        "id": "sKfN2FGm8MF8"
      },
      "execution_count": null,
      "outputs": []
    }
  ]
}