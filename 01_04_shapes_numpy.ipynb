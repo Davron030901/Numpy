{
  "cells": [
    {
      "cell_type": "markdown",
      "metadata": {
        "id": "view-in-github",
        "colab_type": "text"
      },
      "source": [
        "<a href=\"https://colab.research.google.com/github/Davron030901/Numpy/blob/main/01_04_shapes_numpy.ipynb\" target=\"_parent\"><img src=\"https://colab.research.google.com/assets/colab-badge.svg\" alt=\"Open In Colab\"/></a>"
      ]
    },
    {
      "cell_type": "code",
      "execution_count": null,
      "metadata": {
        "id": "eNsMysjy9nJE"
      },
      "outputs": [],
      "source": [
        "# import relevant libraries\n",
        "import numpy as np"
      ]
    },
    {
      "cell_type": "code",
      "execution_count": null,
      "metadata": {
        "id": "P45HAhMW9nJG"
      },
      "outputs": [],
      "source": [
        "array0 = np.array([])"
      ]
    },
    {
      "cell_type": "code",
      "execution_count": null,
      "metadata": {
        "colab": {
          "base_uri": "https://localhost:8080/"
        },
        "id": "H_Byd0K59nJH",
        "outputId": "e88ec58f-bac7-43b1-9476-797225316681"
      },
      "outputs": [
        {
          "output_type": "execute_result",
          "data": {
            "text/plain": [
              "(0,)"
            ]
          },
          "metadata": {},
          "execution_count": 3
        }
      ],
      "source": [
        "# find the shape of array0\n",
        "array0.shape"
      ]
    },
    {
      "cell_type": "code",
      "execution_count": null,
      "metadata": {
        "id": "iQSo9lAM9nJI"
      },
      "outputs": [],
      "source": [
        "array1 = np.array([1, 2, 3, 4, 5])"
      ]
    },
    {
      "cell_type": "code",
      "execution_count": null,
      "metadata": {
        "colab": {
          "base_uri": "https://localhost:8080/"
        },
        "id": "7i_ARB8W9nJJ",
        "outputId": "95bf35fa-7e8f-4dd5-d6b6-a01e280aff77"
      },
      "outputs": [
        {
          "output_type": "execute_result",
          "data": {
            "text/plain": [
              "(5,)"
            ]
          },
          "metadata": {},
          "execution_count": 5
        }
      ],
      "source": [
        "# find the shape of array1\n",
        "array1.shape"
      ]
    },
    {
      "cell_type": "code",
      "execution_count": null,
      "metadata": {
        "id": "d2az7mhC9nJK"
      },
      "outputs": [],
      "source": [
        "array2 = np.array([[1, 2, 3], [4, 5, 6], [7, 8, 9]])"
      ]
    },
    {
      "cell_type": "code",
      "execution_count": null,
      "metadata": {
        "colab": {
          "base_uri": "https://localhost:8080/"
        },
        "id": "yL5E02r09nJL",
        "outputId": "687e262d-a1f2-4fd2-aed5-599fc145e95c"
      },
      "outputs": [
        {
          "output_type": "execute_result",
          "data": {
            "text/plain": [
              "(3, 3)"
            ]
          },
          "metadata": {},
          "execution_count": 7
        }
      ],
      "source": [
        "# find the shape of array2\n",
        "array2.shape"
      ]
    },
    {
      "cell_type": "code",
      "execution_count": null,
      "metadata": {
        "id": "c4aVJsPG9nJM"
      },
      "outputs": [],
      "source": [
        "array_zeros = np.zeros((4, 5))"
      ]
    },
    {
      "cell_type": "code",
      "execution_count": null,
      "metadata": {
        "colab": {
          "base_uri": "https://localhost:8080/"
        },
        "id": "PDK0woyp9nJN",
        "outputId": "580979aa-fd14-437d-877e-821831f5b0d9"
      },
      "outputs": [
        {
          "output_type": "execute_result",
          "data": {
            "text/plain": [
              "(4, 5)"
            ]
          },
          "metadata": {},
          "execution_count": 9
        }
      ],
      "source": [
        "# find the shape of array_zeros\n",
        "array_zeros.shape"
      ]
    },
    {
      "cell_type": "code",
      "execution_count": null,
      "metadata": {
        "id": "_GIfiEVA9nJN"
      },
      "outputs": [],
      "source": [
        "array_ones = np.ones((3, 6))"
      ]
    },
    {
      "cell_type": "code",
      "execution_count": null,
      "metadata": {
        "colab": {
          "base_uri": "https://localhost:8080/"
        },
        "id": "QASC9Cc29nJO",
        "outputId": "a41acdd8-0fe1-4184-a37c-e9be70420592"
      },
      "outputs": [
        {
          "output_type": "execute_result",
          "data": {
            "text/plain": [
              "(3, 6)"
            ]
          },
          "metadata": {},
          "execution_count": 11
        }
      ],
      "source": [
        "# find the shape of array_ones\n",
        "array_ones.shape"
      ]
    },
    {
      "cell_type": "code",
      "execution_count": null,
      "metadata": {
        "colab": {
          "base_uri": "https://localhost:8080/"
        },
        "id": "zWN7pIlL9nJO",
        "outputId": "a6b435c8-f917-4216-83db-fac52d94815d"
      },
      "outputs": [
        {
          "output_type": "execute_result",
          "data": {
            "text/plain": [
              "array([33, 21, 30, 42, 29, 20, 32, 42, 43, 44, 26, 40, 14,  4, 23, 26, 11,\n",
              "       35,  3,  3, 19, 44,  4,  9,  6])"
            ]
          },
          "metadata": {},
          "execution_count": 12
        }
      ],
      "source": [
        "array_r0 = np.random.randint(1, 50, 25)\n",
        "array_r0"
      ]
    },
    {
      "cell_type": "code",
      "execution_count": null,
      "metadata": {
        "colab": {
          "base_uri": "https://localhost:8080/"
        },
        "id": "kXxtx65_9nJP",
        "outputId": "df9a3944-5c8d-4f18-bbbb-d3cf50cfe6d6"
      },
      "outputs": [
        {
          "output_type": "execute_result",
          "data": {
            "text/plain": [
              "(25,)"
            ]
          },
          "metadata": {},
          "execution_count": 13
        }
      ],
      "source": [
        "# find the shape of array_r0\n",
        "array_r0.shape"
      ]
    },
    {
      "cell_type": "code",
      "execution_count": null,
      "metadata": {
        "colab": {
          "base_uri": "https://localhost:8080/"
        },
        "id": "V2f0oby99nJP",
        "outputId": "4c5b7cd7-96e7-4675-b9ab-31ca5148bbf0"
      },
      "outputs": [
        {
          "output_type": "execute_result",
          "data": {
            "text/plain": [
              "array([[33, 21, 30, 42, 29],\n",
              "       [20, 32, 42, 43, 44],\n",
              "       [26, 40, 14,  4, 23],\n",
              "       [26, 11, 35,  3,  3],\n",
              "       [19, 44,  4,  9,  6]])"
            ]
          },
          "metadata": {},
          "execution_count": 14
        }
      ],
      "source": [
        "# reshape array_r0\n",
        "# to create a new multi-dimensional numpy array\n",
        "# containing array_r0's items with 5 rows & 5 columns\n",
        "array_r0.reshape((5, 5))"
      ]
    },
    {
      "cell_type": "code",
      "execution_count": null,
      "metadata": {
        "colab": {
          "base_uri": "https://localhost:8080/"
        },
        "id": "9f6Qpudv9nJP",
        "outputId": "296356ec-9b6b-497f-a873-5f355a2b19de"
      },
      "outputs": [
        {
          "output_type": "execute_result",
          "data": {
            "text/plain": [
              "array([33, 21, 30, 42, 29, 20, 32, 42, 43, 44, 26, 40, 14,  4, 23, 26, 11,\n",
              "       35,  3,  3, 19, 44,  4,  9,  6])"
            ]
          },
          "metadata": {},
          "execution_count": 15
        }
      ],
      "source": [
        "# note that array_r0 itself was not modified\n",
        "array_r0"
      ]
    },
    {
      "cell_type": "code",
      "execution_count": null,
      "metadata": {
        "colab": {
          "base_uri": "https://localhost:8080/"
        },
        "id": "y40hxi5n9nJQ",
        "outputId": "9fcd56b4-98e3-4040-bcca-6f541dbec9a3"
      },
      "outputs": [
        {
          "output_type": "execute_result",
          "data": {
            "text/plain": [
              "array([16, 25,  9, 43, 14, 29, 29, 19, 34, 40, 40, 36,  4, 28, 37, 34,  1,\n",
              "       26,  8,  4])"
            ]
          },
          "metadata": {},
          "execution_count": 16
        }
      ],
      "source": [
        "array_r1 = np.random.randint(1, 50, 20)\n",
        "array_r1"
      ]
    },
    {
      "cell_type": "code",
      "execution_count": null,
      "metadata": {
        "colab": {
          "base_uri": "https://localhost:8080/"
        },
        "id": "tIUwCRQb9nJQ",
        "outputId": "86446738-2c13-4f41-e647-d5a03b808a6c"
      },
      "outputs": [
        {
          "output_type": "execute_result",
          "data": {
            "text/plain": [
              "(20,)"
            ]
          },
          "metadata": {},
          "execution_count": 17
        }
      ],
      "source": [
        "# find the shape of array_r1\n",
        "array_r1.shape"
      ]
    },
    {
      "cell_type": "code",
      "execution_count": null,
      "metadata": {
        "colab": {
          "base_uri": "https://localhost:8080/"
        },
        "id": "SoCBHBTH9nJQ",
        "outputId": "8f2465de-a645-4fa0-8bba-da705b90bbd9"
      },
      "outputs": [
        {
          "output_type": "execute_result",
          "data": {
            "text/plain": [
              "array([[16, 25],\n",
              "       [ 9, 43],\n",
              "       [14, 29],\n",
              "       [29, 19],\n",
              "       [34, 40],\n",
              "       [40, 36],\n",
              "       [ 4, 28],\n",
              "       [37, 34],\n",
              "       [ 1, 26],\n",
              "       [ 8,  4]])"
            ]
          },
          "metadata": {},
          "execution_count": 18
        }
      ],
      "source": [
        "# reshape array_r1\n",
        "# to create a new multi-dimensional numpy array containing array_r1's items\n",
        "# with 10 rows & 2 columns\n",
        "array_r1.reshape((10, 2))"
      ]
    },
    {
      "cell_type": "code",
      "execution_count": null,
      "metadata": {
        "colab": {
          "base_uri": "https://localhost:8080/"
        },
        "id": "SzVOgVe59nJR",
        "outputId": "7332a855-0c13-487d-e97a-762f8dc63330"
      },
      "outputs": [
        {
          "output_type": "execute_result",
          "data": {
            "text/plain": [
              "array([[16, 25,  9, 43, 14, 29, 29, 19, 34, 40],\n",
              "       [40, 36,  4, 28, 37, 34,  1, 26,  8,  4]])"
            ]
          },
          "metadata": {},
          "execution_count": 19
        }
      ],
      "source": [
        "# reshape array_r1\n",
        "# to create a new multi-dimensional numpy array containing array_r1's items\n",
        "# with 2 rows & 10 columns\n",
        "array_r1.reshape((2, 10))"
      ]
    },
    {
      "cell_type": "code",
      "execution_count": null,
      "metadata": {
        "colab": {
          "base_uri": "https://localhost:8080/"
        },
        "id": "MCMA3dc19nJR",
        "outputId": "cb6a9f2e-60a1-450f-c7cf-c6776c4caf1d"
      },
      "outputs": [
        {
          "output_type": "execute_result",
          "data": {
            "text/plain": [
              "array([[16, 25,  9, 43, 14],\n",
              "       [29, 29, 19, 34, 40],\n",
              "       [40, 36,  4, 28, 37],\n",
              "       [34,  1, 26,  8,  4]])"
            ]
          },
          "metadata": {},
          "execution_count": 20
        }
      ],
      "source": [
        "# reshape array_r1\n",
        "# to create a new multi-dimensional numpy array containing array_r1's items\n",
        "# with 4 rows & 5 columns\n",
        "array_r1.reshape((4, 5))"
      ]
    },
    {
      "cell_type": "code",
      "execution_count": null,
      "metadata": {
        "colab": {
          "base_uri": "https://localhost:8080/"
        },
        "id": "YwhILqgU9nJR",
        "outputId": "6d73bd73-107e-45f9-d097-7c06d3a47485"
      },
      "outputs": [
        {
          "output_type": "execute_result",
          "data": {
            "text/plain": [
              "array([[16, 25,  9, 43],\n",
              "       [14, 29, 29, 19],\n",
              "       [34, 40, 40, 36],\n",
              "       [ 4, 28, 37, 34],\n",
              "       [ 1, 26,  8,  4]])"
            ]
          },
          "metadata": {},
          "execution_count": 21
        }
      ],
      "source": [
        "# reshape array_r1\n",
        "# to create a new multi-dimensional numpy array containing array_r1's items\n",
        "# with 5 rows & 4 columns\n",
        "array_r1.reshape((5, 4))"
      ]
    },
    {
      "cell_type": "code",
      "execution_count": null,
      "metadata": {
        "colab": {
          "base_uri": "https://localhost:8080/"
        },
        "id": "qK35ausD9nJR",
        "outputId": "1806eb1f-0beb-4b33-e013-35fdfb417300"
      },
      "outputs": [
        {
          "output_type": "execute_result",
          "data": {
            "text/plain": [
              "array([16, 25,  9, 43, 14, 29, 29, 19, 34, 40, 40, 36,  4, 28, 37, 34,  1,\n",
              "       26,  8,  4])"
            ]
          },
          "metadata": {},
          "execution_count": 22
        }
      ],
      "source": [
        "# note that array_r1 itself was not modified\n",
        "array_r1"
      ]
    },
    {
      "cell_type": "code",
      "execution_count": null,
      "metadata": {
        "colab": {
          "base_uri": "https://localhost:8080/"
        },
        "id": "mvs17cQ09nJR",
        "outputId": "d449921c-751d-42d9-b7f6-d66735e1121d"
      },
      "outputs": [
        {
          "output_type": "execute_result",
          "data": {
            "text/plain": [
              "array([[ 5,  2,  3, 15],\n",
              "       [25, 13, 37, 22],\n",
              "       [23, 14, 39,  2],\n",
              "       [43, 43, 35,  9]])"
            ]
          },
          "metadata": {},
          "execution_count": 23
        }
      ],
      "source": [
        "array_r2 = np.random.randint(1, 50, (4, 4))\n",
        "array_r2"
      ]
    },
    {
      "cell_type": "code",
      "execution_count": null,
      "metadata": {
        "colab": {
          "base_uri": "https://localhost:8080/"
        },
        "id": "RrebNeq89nJS",
        "outputId": "782568b6-4908-4fd8-afc8-8ab30c19dfec"
      },
      "outputs": [
        {
          "output_type": "execute_result",
          "data": {
            "text/plain": [
              "(4, 4)"
            ]
          },
          "metadata": {},
          "execution_count": 24
        }
      ],
      "source": [
        "# find the shape of array_r2\n",
        "array_r2.shape"
      ]
    },
    {
      "cell_type": "code",
      "execution_count": null,
      "metadata": {
        "colab": {
          "base_uri": "https://localhost:8080/"
        },
        "id": "qwYaUAzJ9nJS",
        "outputId": "0ef56144-112a-4a32-f61d-65b075abbbb5"
      },
      "outputs": [
        {
          "output_type": "execute_result",
          "data": {
            "text/plain": [
              "array([ 5,  2,  3, 15, 25, 13, 37, 22, 23, 14, 39,  2, 43, 43, 35,  9])"
            ]
          },
          "metadata": {},
          "execution_count": 25
        }
      ],
      "source": [
        "# reshape array_r2\n",
        "# to create a new one-dimensional numpy array containing array_r2's items\n",
        "# with length 16\n",
        "array_r2.reshape(16)"
      ]
    },
    {
      "cell_type": "code",
      "execution_count": null,
      "metadata": {
        "id": "fB1pWTHb9nJS"
      },
      "outputs": [],
      "source": [
        "# note that array_r2 itself was not modified\n",
        "array_r2"
      ]
    },
    {
      "cell_type": "code",
      "execution_count": null,
      "metadata": {
        "id": "Rm5JfCVP9nJT"
      },
      "outputs": [],
      "source": []
    }
  ],
  "metadata": {
    "kernelspec": {
      "display_name": "Python 3",
      "language": "python",
      "name": "python3"
    },
    "language_info": {
      "codemirror_mode": {
        "name": "ipython",
        "version": 3
      },
      "file_extension": ".py",
      "mimetype": "text/x-python",
      "name": "python",
      "nbconvert_exporter": "python",
      "pygments_lexer": "ipython3",
      "version": "3.6.9"
    },
    "colab": {
      "provenance": [],
      "include_colab_link": true
    }
  },
  "nbformat": 4,
  "nbformat_minor": 0
}