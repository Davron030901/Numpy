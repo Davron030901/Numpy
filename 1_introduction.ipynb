{
  "nbformat": 4,
  "nbformat_minor": 0,
  "metadata": {
    "colab": {
      "provenance": [],
      "authorship_tag": "ABX9TyOQb4UDQ9JlPMc74TOQpOYi",
      "include_colab_link": true
    },
    "kernelspec": {
      "name": "python3",
      "display_name": "Python 3"
    },
    "language_info": {
      "name": "python"
    }
  },
  "cells": [
    {
      "cell_type": "markdown",
      "metadata": {
        "id": "view-in-github",
        "colab_type": "text"
      },
      "source": [
        "<a href=\"https://colab.research.google.com/github/Davron030901/Numpy/blob/main/1_introduction.ipynb\" target=\"_parent\"><img src=\"https://colab.research.google.com/assets/colab-badge.svg\" alt=\"Open In Colab\"/></a>"
      ]
    },
    {
      "cell_type": "markdown",
      "source": [
        "NumPy is a Python library.\n",
        "\n",
        "NumPy is used for working with arrays.\n",
        "\n",
        "NumPy is short for \"Numerical Python\"."
      ],
      "metadata": {
        "id": "HTjtosHH24eL"
      }
    },
    {
      "cell_type": "markdown",
      "source": [
        "pip install numpy"
      ],
      "metadata": {
        "id": "xlZ9Ni-N4UV6"
      }
    },
    {
      "cell_type": "code",
      "source": [
        "import numpy as np\n",
        "\n",
        "arr = np.array([1, 2, 3, 4, 5])\n",
        "\n",
        "print(arr)\n",
        "\n",
        "print(type(arr))"
      ],
      "metadata": {
        "colab": {
          "base_uri": "https://localhost:8080/"
        },
        "id": "v9pk_gev2hpJ",
        "outputId": "4ad5f94d-76b8-477d-a468-2eeea723d9c3"
      },
      "execution_count": 2,
      "outputs": [
        {
          "output_type": "stream",
          "name": "stdout",
          "text": [
            "[1 2 3 4 5]\n",
            "<class 'numpy.ndarray'>\n"
          ]
        }
      ]
    },
    {
      "cell_type": "markdown",
      "source": [
        "NumPy was created in 2005 by Travis Oliphant. It is an open source project and you can use it freely.\n",
        "\n",
        "NumPy stands for Numerical Python."
      ],
      "metadata": {
        "id": "fUTTNFwr3i-V"
      }
    },
    {
      "cell_type": "markdown",
      "source": [
        "NumPy aims to provide an array object that is up to 50x faster than traditional Python lists."
      ],
      "metadata": {
        "id": "rWScHYH53sKO"
      }
    },
    {
      "cell_type": "markdown",
      "source": [
        "The array object in NumPy is called ndarray, it provides a lot of supporting functions that make working with ndarray very easy."
      ],
      "metadata": {
        "id": "9Q8SuGvM3xNv"
      }
    },
    {
      "cell_type": "markdown",
      "source": [
        "**This is the main reason why NumPy is faster than lists. Also it is optimized to work with latest CPU architectures.**"
      ],
      "metadata": {
        "id": "fWTveLI73-8o"
      }
    },
    {
      "cell_type": "code",
      "source": [
        "# Checking NumPy Version\n",
        "print(np.__version__)"
      ],
      "metadata": {
        "colab": {
          "base_uri": "https://localhost:8080/"
        },
        "id": "ybNfu7vP2jrQ",
        "outputId": "e1cc953c-04af-44b3-80a8-f862a62c4806"
      },
      "execution_count": 3,
      "outputs": [
        {
          "output_type": "stream",
          "name": "stdout",
          "text": [
            "1.26.4\n"
          ]
        }
      ]
    },
    {
      "cell_type": "markdown",
      "source": [
        "NumPy is a Python library and is written partially in Python, but most of the parts that require fast computation are written in C or C++."
      ],
      "metadata": {
        "id": "akn7J4NY4Hly"
      }
    },
    {
      "cell_type": "markdown",
      "source": [
        "**0-D Arrays**"
      ],
      "metadata": {
        "id": "tThylUh35GMq"
      }
    },
    {
      "cell_type": "code",
      "source": [
        "arr = np.array(42)\n",
        "\n",
        "print(arr)\n"
      ],
      "metadata": {
        "colab": {
          "base_uri": "https://localhost:8080/"
        },
        "id": "IXHfaaDs3x73",
        "outputId": "48e0d632-2714-4833-b04a-f20c8bd66bbf"
      },
      "execution_count": 4,
      "outputs": [
        {
          "output_type": "stream",
          "name": "stdout",
          "text": [
            "42\n"
          ]
        }
      ]
    },
    {
      "cell_type": "markdown",
      "source": [
        "**1-D Arrays**"
      ],
      "metadata": {
        "id": "-jPLlZgz5ZY4"
      }
    },
    {
      "cell_type": "code",
      "source": [
        "arr = np.array([1, 2, 3, 4, 5])\n",
        "\n",
        "print(arr)"
      ],
      "metadata": {
        "colab": {
          "base_uri": "https://localhost:8080/"
        },
        "id": "cC1fp6z65Um6",
        "outputId": "456163b9-c57f-4a0d-a996-0390c8023e46"
      },
      "execution_count": 5,
      "outputs": [
        {
          "output_type": "stream",
          "name": "stdout",
          "text": [
            "[1 2 3 4 5]\n"
          ]
        }
      ]
    },
    {
      "cell_type": "markdown",
      "source": [
        "**2-D Arrays**"
      ],
      "metadata": {
        "id": "6SSiPCpM5or2"
      }
    },
    {
      "cell_type": "code",
      "source": [
        "arr = np.array([[1, 2, 3], [4, 5, 6]])\n",
        "\n",
        "print(arr)"
      ],
      "metadata": {
        "colab": {
          "base_uri": "https://localhost:8080/"
        },
        "id": "g-z391QA5dB3",
        "outputId": "0560afce-fff0-40fe-c4c2-363b0985b295"
      },
      "execution_count": 6,
      "outputs": [
        {
          "output_type": "stream",
          "name": "stdout",
          "text": [
            "[[1 2 3]\n",
            " [4 5 6]]\n"
          ]
        }
      ]
    },
    {
      "cell_type": "markdown",
      "source": [
        "**3-D arrays**"
      ],
      "metadata": {
        "id": "vth1Ds8T5x2q"
      }
    },
    {
      "cell_type": "code",
      "source": [
        "arr = np.array([[[1, 2, 3], [4, 5, 6]], [[1, 2, 3], [4, 5, 6]]])\n",
        "\n",
        "print(arr)"
      ],
      "metadata": {
        "colab": {
          "base_uri": "https://localhost:8080/"
        },
        "id": "PvuI-C5j5sBz",
        "outputId": "695ad948-8e87-48d9-cc5c-a7e5111c0060"
      },
      "execution_count": 7,
      "outputs": [
        {
          "output_type": "stream",
          "name": "stdout",
          "text": [
            "[[[1 2 3]\n",
            "  [4 5 6]]\n",
            "\n",
            " [[1 2 3]\n",
            "  [4 5 6]]]\n"
          ]
        }
      ]
    },
    {
      "cell_type": "markdown",
      "source": [
        "**Check Number of Dimensions?**"
      ],
      "metadata": {
        "id": "--e57Ius59Bq"
      }
    },
    {
      "cell_type": "markdown",
      "source": [
        "NumPy Arrays provides the ndim attribute dimensions"
      ],
      "metadata": {
        "id": "o0XGx5VR6MAK"
      }
    },
    {
      "cell_type": "code",
      "source": [
        "a = np.array(42)\n",
        "b = np.array([1, 2, 3, 4, 5])\n",
        "c = np.array([[1, 2, 3], [4, 5, 6]])\n",
        "d = np.array([[[1, 2, 3], [4, 5, 6]], [[1, 2, 3], [4, 5, 6]]])\n",
        "\n",
        "print(a.ndim)\n",
        "print(b.ndim)\n",
        "print(c.ndim)\n",
        "print(d.ndim)"
      ],
      "metadata": {
        "colab": {
          "base_uri": "https://localhost:8080/"
        },
        "id": "1q7j7kE152Qe",
        "outputId": "d27ca6e6-d930-490a-b36b-a9a3f1797fa4"
      },
      "execution_count": 9,
      "outputs": [
        {
          "output_type": "stream",
          "name": "stdout",
          "text": [
            "0\n",
            "1\n",
            "2\n",
            "3\n"
          ]
        }
      ]
    },
    {
      "cell_type": "markdown",
      "source": [
        "**Higher Dimensional Arrays**"
      ],
      "metadata": {
        "id": "s8VfHbol6eDz"
      }
    },
    {
      "cell_type": "markdown",
      "source": [
        "The number of dimensions by using the ndmin argument"
      ],
      "metadata": {
        "id": "i55iX5HU67LB"
      }
    },
    {
      "cell_type": "code",
      "source": [
        "arr = np.array([1, 2, 3, 4], ndmin=5)\n",
        "\n",
        "print(arr)\n",
        "print('number of dimensions :', arr.ndim)"
      ],
      "metadata": {
        "colab": {
          "base_uri": "https://localhost:8080/"
        },
        "id": "06E9YR0X6A2a",
        "outputId": "00dcd2e6-9cc0-4b64-a69d-476802430643"
      },
      "execution_count": 10,
      "outputs": [
        {
          "output_type": "stream",
          "name": "stdout",
          "text": [
            "[[[[[1 2 3 4]]]]]\n",
            "number of dimensions : 5\n"
          ]
        }
      ]
    },
    {
      "cell_type": "markdown",
      "source": [
        "**Access Array Elements**"
      ],
      "metadata": {
        "id": "ZbcswZTT7GFU"
      }
    },
    {
      "cell_type": "markdown",
      "source": [
        "The indexes in NumPy arrays start with 0, meaning that the first element has index 0, and the second has index 1 etc"
      ],
      "metadata": {
        "id": "Q9y6q4sd7ReI"
      }
    },
    {
      "cell_type": "code",
      "source": [
        "arr = np.array([1, 2, 3, 4])\n",
        "\n",
        "print(arr[0]) #0,1,2,3 index"
      ],
      "metadata": {
        "colab": {
          "base_uri": "https://localhost:8080/"
        },
        "id": "PO8U00NI69HE",
        "outputId": "8086be1d-c1be-4348-c345-bb97ab5c683b"
      },
      "execution_count": 12,
      "outputs": [
        {
          "output_type": "stream",
          "name": "stdout",
          "text": [
            "1\n"
          ]
        }
      ]
    },
    {
      "cell_type": "markdown",
      "source": [
        "Add index element"
      ],
      "metadata": {
        "id": "JRC_x0cq7hrv"
      }
    },
    {
      "cell_type": "code",
      "source": [
        "arr = np.array([1, 2, 3, 4])\n",
        "\n",
        "print(arr[2] + arr[3]) # 3+4=7"
      ],
      "metadata": {
        "colab": {
          "base_uri": "https://localhost:8080/"
        },
        "id": "3TN3WYI17Keb",
        "outputId": "3096b3dd-ef85-4bca-b420-1e06538776bf"
      },
      "execution_count": 13,
      "outputs": [
        {
          "output_type": "stream",
          "name": "stdout",
          "text": [
            "7\n"
          ]
        }
      ]
    },
    {
      "cell_type": "markdown",
      "source": [
        "**Access 2-D Arrays**"
      ],
      "metadata": {
        "id": "-HFnrlXb7zvS"
      }
    },
    {
      "cell_type": "code",
      "source": [
        "arr = np.array([[1,2,3,4,5],\n",
        "                [6,7,8,9,10]])\n",
        "\n",
        "print('2nd element on 1st row: ', arr[0, 1]) # 1-row 2-column"
      ],
      "metadata": {
        "colab": {
          "base_uri": "https://localhost:8080/"
        },
        "id": "MCDHHFac7qEK",
        "outputId": "be17ba7d-0bcb-4815-fadd-032e8cd2e1dc"
      },
      "execution_count": 15,
      "outputs": [
        {
          "output_type": "stream",
          "name": "stdout",
          "text": [
            "2nd element on 1st row:  2\n"
          ]
        }
      ]
    },
    {
      "cell_type": "markdown",
      "source": [
        "**Access 3-D Arrays**"
      ],
      "metadata": {
        "id": "SIkCgN3v8Tgj"
      }
    },
    {
      "cell_type": "code",
      "source": [
        "arr = np.array([[[1, 2, 3], [4, 5, 6]], [[7, 8, 9], [10, 11, 12]]])\n",
        "\n",
        "print(arr[0, 1, 2])"
      ],
      "metadata": {
        "colab": {
          "base_uri": "https://localhost:8080/"
        },
        "id": "hC76Catb76Mw",
        "outputId": "aaec97c1-35e5-40fb-fa7b-cc98fdaabffd"
      },
      "execution_count": 16,
      "outputs": [
        {
          "output_type": "stream",
          "name": "stdout",
          "text": [
            "6\n"
          ]
        }
      ]
    },
    {
      "cell_type": "markdown",
      "source": [
        "**Negative Indexing**"
      ],
      "metadata": {
        "id": "PBQak_eh89KK"
      }
    },
    {
      "cell_type": "code",
      "source": [
        "arr = np.array([[1,2,3,4,5], [6,7,8,9,10]])\n",
        "\n",
        "print('Last element from 2nd dim: ', arr[1, -1])"
      ],
      "metadata": {
        "colab": {
          "base_uri": "https://localhost:8080/"
        },
        "id": "bCT26WKI8Y5t",
        "outputId": "cd126402-7e7a-422e-c828-5e4d4bcc36a0"
      },
      "execution_count": 17,
      "outputs": [
        {
          "output_type": "stream",
          "name": "stdout",
          "text": [
            "Last element from 2nd dim:  10\n"
          ]
        }
      ]
    },
    {
      "cell_type": "markdown",
      "source": [
        "**Slicing arrays**"
      ],
      "metadata": {
        "id": "xpsWYv1T9pS7"
      }
    },
    {
      "cell_type": "markdown",
      "source": [
        "We pass slice instead of index like this: *[start:end]*.\n",
        "\n",
        "We can also define the step, like this: *[start:end:step]*."
      ],
      "metadata": {
        "id": "NgBrEX6E9zY4"
      }
    },
    {
      "cell_type": "code",
      "source": [
        "arr = np.array([1, 2, 3, 4, 5, 6, 7])\n",
        "\n",
        "print(arr[1:5])\n",
        "print(arr[4:]) #Slice elements from index 4\n",
        "print(arr[:4]) #Slice elements from the beginning to index 4\n",
        "print(arr[-3:-1]) #Slice from the index 3 from the end to index 1\n",
        "print(arr[1:5:2]) #Use the step value to determine the step of the slicing\n",
        "print(arr[::2])"
      ],
      "metadata": {
        "colab": {
          "base_uri": "https://localhost:8080/"
        },
        "id": "C1cNjaU39C-G",
        "outputId": "dfe349ad-e17c-4086-b678-585ff2a854b7"
      },
      "execution_count": 24,
      "outputs": [
        {
          "output_type": "stream",
          "name": "stdout",
          "text": [
            "[2 3 4 5]\n",
            "[5 6 7]\n",
            "[1 2 3 4]\n",
            "[5 6]\n",
            "[2 4]\n",
            "[1 3 5 7]\n"
          ]
        }
      ]
    },
    {
      "cell_type": "markdown",
      "source": [
        "**Slicing 2-D Arrays**"
      ],
      "metadata": {
        "id": "7J5EKG7H-qNS"
      }
    },
    {
      "cell_type": "code",
      "source": [
        "arr = np.array([[1, 2, 3, 4, 5], [6, 7, 8, 9, 10]])\n",
        "\n",
        "print(arr[1, 1:4]) #match row"
      ],
      "metadata": {
        "colab": {
          "base_uri": "https://localhost:8080/"
        },
        "id": "jnRish-X-ABG",
        "outputId": "ae97d7c7-ffc1-474e-b694-31fc0e8b8a99"
      },
      "execution_count": 23,
      "outputs": [
        {
          "output_type": "stream",
          "name": "stdout",
          "text": [
            "[7 8 9]\n"
          ]
        }
      ]
    },
    {
      "cell_type": "code",
      "source": [
        "arr = np.array([[1, 2, 3, 4, 5], [6, 7, 8, 9, 10]])\n",
        "\n",
        "print(arr[0:2, 2]) #match column"
      ],
      "metadata": {
        "colab": {
          "base_uri": "https://localhost:8080/"
        },
        "id": "MKwvVtL3-uV5",
        "outputId": "c9e269d3-eff6-4e97-df37-6799e5c71039"
      },
      "execution_count": 25,
      "outputs": [
        {
          "output_type": "stream",
          "name": "stdout",
          "text": [
            "[3 8]\n"
          ]
        }
      ]
    },
    {
      "cell_type": "markdown",
      "source": [
        "From both elements, slice index 1 to index 4 (not included), this will return a 2-D array"
      ],
      "metadata": {
        "id": "L7vh-DjO_JW3"
      }
    },
    {
      "cell_type": "code",
      "source": [
        "arr = np.array([[1, 2, 3, 4, 5], [6, 7, 8, 9, 10]])\n",
        "\n",
        "print(arr[0:2, 1:4])"
      ],
      "metadata": {
        "colab": {
          "base_uri": "https://localhost:8080/"
        },
        "id": "MGyz_r-N-ytE",
        "outputId": "6311b390-ff12-4db0-b4bb-26e849e69a1e"
      },
      "execution_count": 26,
      "outputs": [
        {
          "output_type": "stream",
          "name": "stdout",
          "text": [
            "[[2 3 4]\n",
            " [7 8 9]]\n"
          ]
        }
      ]
    },
    {
      "cell_type": "markdown",
      "source": [
        "**NumPy Data Types**"
      ],
      "metadata": {
        "id": "MLt2qPuyACS-"
      }
    },
    {
      "cell_type": "markdown",
      "source": [
        "*strings* - used to represent text data, the text is given under quote marks. e.g. \"ABCD\"\n",
        "\n",
        "*integer* - used to represent integer numbers. e.g. -1, -2, -3\n",
        "\n",
        "*float* - used to represent real numbers. e.g. 1.2, 42.42\n",
        "\n",
        "*boolean* - used to represent True or False.\n",
        "\n",
        "*complex* - used to represent complex numbers. e.g. 1.0 + 2.0j, 1.5 + 2.5j"
      ],
      "metadata": {
        "id": "WSMcTURHAFwS"
      }
    },
    {
      "cell_type": "markdown",
      "source": [
        "*i* - integer\n",
        "\n",
        "*b*- boolean\n",
        "\n",
        "*u* - unsigned integer\n",
        "\n",
        "*f *- float\n",
        "\n",
        "*c* - complex float\n",
        "\n",
        "*m* - timedelta\n",
        "\n",
        "*M *- datetime\n",
        "\n",
        "*O *- object\n",
        "\n",
        "*S* - string\n",
        "\n",
        "*U*- unicode string\n",
        "\n",
        "*V *- fixed chunk of memory for other type ( void )\n"
      ],
      "metadata": {
        "id": "YscSUfGHAl1r"
      }
    },
    {
      "cell_type": "markdown",
      "source": [
        "Checking the Data Type of an Array \"*dtype*\""
      ],
      "metadata": {
        "id": "L1AaQXqyA_tG"
      }
    },
    {
      "cell_type": "code",
      "source": [
        "arr1 = np.array([1, 2, 3, 4])\n",
        "arr2 = np.array(['apple', 'banana', 'cherry'])\n",
        "\n",
        "print(arr1.dtype)\n",
        "print(arr2.dtype)"
      ],
      "metadata": {
        "colab": {
          "base_uri": "https://localhost:8080/"
        },
        "id": "yNbKZChR_FmS",
        "outputId": "a6266e2c-112b-4670-ba40-c0be7a6abd55"
      },
      "execution_count": 29,
      "outputs": [
        {
          "output_type": "stream",
          "name": "stdout",
          "text": [
            "int64\n",
            "<U6\n"
          ]
        }
      ]
    },
    {
      "cell_type": "markdown",
      "source": [
        "Creating Arrays With a Defined Data Type"
      ],
      "metadata": {
        "id": "rpggm7fwB8e3"
      }
    },
    {
      "cell_type": "code",
      "source": [
        "arr = np.array([1, 2, 3, 4], dtype='S')\n",
        "\n",
        "print(arr)\n",
        "print(arr.dtype)"
      ],
      "metadata": {
        "colab": {
          "base_uri": "https://localhost:8080/"
        },
        "id": "jQO2epRdBIoE",
        "outputId": "f906ce45-fb4a-4eaa-9f48-ca132d8fe2ff"
      },
      "execution_count": 30,
      "outputs": [
        {
          "output_type": "stream",
          "name": "stdout",
          "text": [
            "[b'1' b'2' b'3' b'4']\n",
            "|S1\n"
          ]
        }
      ]
    },
    {
      "cell_type": "markdown",
      "source": [
        "For i, u, f, S and U we can define size as well."
      ],
      "metadata": {
        "id": "KAGJvxgsB5sP"
      }
    },
    {
      "cell_type": "code",
      "source": [
        "arr = np.array([1, 2, 3, 4], dtype='i4')\n",
        "\n",
        "print(arr)\n",
        "print(arr.dtype)"
      ],
      "metadata": {
        "colab": {
          "base_uri": "https://localhost:8080/"
        },
        "id": "vHSQAlUvBl7J",
        "outputId": "fa7b8ab9-aad0-40b1-8aea-7cf940edf398"
      },
      "execution_count": 31,
      "outputs": [
        {
          "output_type": "stream",
          "name": "stdout",
          "text": [
            "[1 2 3 4]\n",
            "int32\n"
          ]
        }
      ]
    },
    {
      "cell_type": "markdown",
      "source": [
        "*ValueError*: In Python ValueError is raised when the type of passed argument to a function is unexpected/incorrect."
      ],
      "metadata": {
        "id": "4r28DrT1B4r6"
      }
    },
    {
      "cell_type": "code",
      "source": [
        "arr = np.array(['a', '2', '3'], dtype='i')"
      ],
      "metadata": {
        "colab": {
          "base_uri": "https://localhost:8080/",
          "height": 141
        },
        "id": "Um8IVa5TCJkt",
        "outputId": "d2801c5d-f9d7-44ec-a5e2-75e04d9025a9"
      },
      "execution_count": 34,
      "outputs": [
        {
          "output_type": "error",
          "ename": "ValueError",
          "evalue": "invalid literal for int() with base 10: 'a'",
          "traceback": [
            "\u001b[0;31m---------------------------------------------------------------------------\u001b[0m",
            "\u001b[0;31mValueError\u001b[0m                                Traceback (most recent call last)",
            "\u001b[0;32m<ipython-input-34-4101754d9810>\u001b[0m in \u001b[0;36m<cell line: 1>\u001b[0;34m()\u001b[0m\n\u001b[0;32m----> 1\u001b[0;31m \u001b[0marr\u001b[0m \u001b[0;34m=\u001b[0m \u001b[0mnp\u001b[0m\u001b[0;34m.\u001b[0m\u001b[0marray\u001b[0m\u001b[0;34m(\u001b[0m\u001b[0;34m[\u001b[0m\u001b[0;34m'a'\u001b[0m\u001b[0;34m,\u001b[0m \u001b[0;34m'2'\u001b[0m\u001b[0;34m,\u001b[0m \u001b[0;34m'3'\u001b[0m\u001b[0;34m]\u001b[0m\u001b[0;34m,\u001b[0m \u001b[0mdtype\u001b[0m\u001b[0;34m=\u001b[0m\u001b[0;34m'i'\u001b[0m\u001b[0;34m)\u001b[0m\u001b[0;34m\u001b[0m\u001b[0;34m\u001b[0m\u001b[0m\n\u001b[0m",
            "\u001b[0;31mValueError\u001b[0m: invalid literal for int() with base 10: 'a'"
          ]
        }
      ]
    },
    {
      "cell_type": "markdown",
      "source": [
        "Converting Data Type on Existing Arrays\n",
        "*astype()*"
      ],
      "metadata": {
        "id": "tktdF6_JCYfX"
      }
    },
    {
      "cell_type": "code",
      "source": [
        "arr = np.array([\"1\", \"2\", \"3\"])\n",
        "\n",
        "newarr = arr.astype('i') #int32\n",
        "# newarr = arr.astype(int) #int64\n",
        "print(newarr)\n",
        "print(newarr.dtype)"
      ],
      "metadata": {
        "colab": {
          "base_uri": "https://localhost:8080/"
        },
        "id": "zZ0BEuVOCLyQ",
        "outputId": "b4d26b0b-c7a2-4f4e-e743-8f0a2f2d171d"
      },
      "execution_count": 39,
      "outputs": [
        {
          "output_type": "stream",
          "name": "stdout",
          "text": [
            "[1 2 3]\n",
            "int32\n"
          ]
        }
      ]
    },
    {
      "cell_type": "markdown",
      "source": [
        "Change data type from integer to boolean"
      ],
      "metadata": {
        "id": "KCOXGJFuDH0j"
      }
    },
    {
      "cell_type": "code",
      "source": [
        "arr = np.array([1, 0, 3])\n",
        "\n",
        "newarr = arr.astype(bool)\n",
        "\n",
        "print(newarr)\n",
        "print(newarr.dtype)"
      ],
      "metadata": {
        "colab": {
          "base_uri": "https://localhost:8080/"
        },
        "id": "U0ai61yDCRPP",
        "outputId": "698756f1-2ec9-4be8-a15a-ff5e21e18a24"
      },
      "execution_count": 40,
      "outputs": [
        {
          "output_type": "stream",
          "name": "stdout",
          "text": [
            "[ True False  True]\n",
            "bool\n"
          ]
        }
      ]
    },
    {
      "cell_type": "markdown",
      "source": [
        "\"NumPy Array Copy vs View\""
      ],
      "metadata": {
        "id": "qaLmKHMYE00R"
      }
    },
    {
      "cell_type": "markdown",
      "source": [
        "COPY:"
      ],
      "metadata": {
        "id": "02WN-sSwHsDi"
      }
    },
    {
      "cell_type": "code",
      "source": [
        "arr = np.array([1, 2, 3, 4, 5])\n",
        "x = arr.copy()\n",
        "arr[0] = 42\n",
        "\n",
        "print(arr)\n",
        "print(x)"
      ],
      "metadata": {
        "colab": {
          "base_uri": "https://localhost:8080/"
        },
        "id": "7hhY3JeTDFWx",
        "outputId": "300df040-ca73-447f-8d2c-b9b654983cf8"
      },
      "execution_count": 41,
      "outputs": [
        {
          "output_type": "stream",
          "name": "stdout",
          "text": [
            "[42  2  3  4  5]\n",
            "[1 2 3 4 5]\n"
          ]
        }
      ]
    },
    {
      "cell_type": "markdown",
      "source": [
        "VIEW:"
      ],
      "metadata": {
        "id": "on_DM-N8HwsC"
      }
    },
    {
      "cell_type": "code",
      "source": [
        "arr = np.array([1, 2, 3, 4, 5])\n",
        "x = arr.view()\n",
        "arr[0] = 42\n",
        "\n",
        "print(arr)\n",
        "print(x)\n",
        "arr = np.array([1, 2, 3, 4, 5])\n",
        "x = arr.view()\n",
        "x[0] = 31\n",
        "\n",
        "print(arr)\n",
        "print(x)"
      ],
      "metadata": {
        "colab": {
          "base_uri": "https://localhost:8080/"
        },
        "id": "H4nj6g7YE_CG",
        "outputId": "f490f99a-da32-4173-e2c1-3c2ec002c13d"
      },
      "execution_count": 45,
      "outputs": [
        {
          "output_type": "stream",
          "name": "stdout",
          "text": [
            "[42  2  3  4  5]\n",
            "[42  2  3  4  5]\n",
            "[31  2  3  4  5]\n",
            "[31  2  3  4  5]\n"
          ]
        }
      ]
    },
    {
      "cell_type": "markdown",
      "source": [
        "Check if Array Owns its Data"
      ],
      "metadata": {
        "id": "3_KfKPfMRJWL"
      }
    },
    {
      "cell_type": "code",
      "source": [
        "arr = np.array([1, 2, 3, 4, 5])\n",
        "\n",
        "x = arr.copy()\n",
        "y = arr.view()\n",
        "\n",
        "print(x.base)\n",
        "print(y.base)"
      ],
      "metadata": {
        "colab": {
          "base_uri": "https://localhost:8080/"
        },
        "id": "SAWNqw8WHmdH",
        "outputId": "60ec5a62-d14a-47f3-a1be-4a5f97bf8ba1"
      },
      "execution_count": 47,
      "outputs": [
        {
          "output_type": "stream",
          "name": "stdout",
          "text": [
            "None\n",
            "[1 2 3 4 5]\n"
          ]
        }
      ]
    },
    {
      "cell_type": "markdown",
      "source": [
        "**NumPy Array Shape**"
      ],
      "metadata": {
        "id": "WgvGUGj_Rxc0"
      }
    },
    {
      "cell_type": "code",
      "source": [
        "arr = np.array([[1, 2, 3, 4], [5, 6, 7, 8]])\n",
        "\n",
        "print(arr.shape)"
      ],
      "metadata": {
        "colab": {
          "base_uri": "https://localhost:8080/"
        },
        "id": "c4-P8I4qH6FM",
        "outputId": "296a62ab-ed71-4538-ff71-a4e54cf5c902"
      },
      "execution_count": 48,
      "outputs": [
        {
          "output_type": "stream",
          "name": "stdout",
          "text": [
            "(2, 4)\n"
          ]
        }
      ]
    },
    {
      "cell_type": "markdown",
      "source": [
        "Create an array with 5 dimensions using ndmin"
      ],
      "metadata": {
        "id": "aPfek8oRSIoF"
      }
    },
    {
      "cell_type": "code",
      "source": [
        "arr = np.array([1, 2, 3, 4], ndmin=5)\n",
        "\n",
        "print(arr)\n",
        "print('shape of array :', arr.shape)"
      ],
      "metadata": {
        "colab": {
          "base_uri": "https://localhost:8080/"
        },
        "id": "DiHihPyJR4h8",
        "outputId": "e506f6da-8f5d-4df2-ce72-39a9986a933f"
      },
      "execution_count": 49,
      "outputs": [
        {
          "output_type": "stream",
          "name": "stdout",
          "text": [
            "[[[[[1 2 3 4]]]]]\n",
            "shape of array : (1, 1, 1, 1, 4)\n"
          ]
        }
      ]
    },
    {
      "cell_type": "markdown",
      "source": [
        "**NumPy Array Reshaping**"
      ],
      "metadata": {
        "id": "I12kDmO9Scqi"
      }
    },
    {
      "cell_type": "markdown",
      "source": [
        "Reshape From 1-D to 2-D"
      ],
      "metadata": {
        "id": "bRHRMpUeSlrZ"
      }
    },
    {
      "cell_type": "code",
      "source": [
        "arr = np.array([1, 2, 3, 4, 5, 6, 7, 8, 9, 10, 11, 12])\n",
        "\n",
        "newarr = arr.reshape(4, 3)\n",
        "\n",
        "print(newarr)"
      ],
      "metadata": {
        "colab": {
          "base_uri": "https://localhost:8080/"
        },
        "id": "2jlvnVj_SKu0",
        "outputId": "c710c63b-9fb6-4e1d-cd02-36cdb757e527"
      },
      "execution_count": 50,
      "outputs": [
        {
          "output_type": "stream",
          "name": "stdout",
          "text": [
            "[[ 1  2  3]\n",
            " [ 4  5  6]\n",
            " [ 7  8  9]\n",
            " [10 11 12]]\n"
          ]
        }
      ]
    },
    {
      "cell_type": "markdown",
      "source": [
        "Reshape From 1-D to 3-D"
      ],
      "metadata": {
        "id": "hxvA2nX3Sutw"
      }
    },
    {
      "cell_type": "code",
      "source": [
        "arr = np.array([1, 2, 3, 4, 5, 6, 7, 8, 9, 10, 11, 12])\n",
        "\n",
        "newarr = arr.reshape(2, 3, 2)\n",
        "\n",
        "print(newarr)"
      ],
      "metadata": {
        "colab": {
          "base_uri": "https://localhost:8080/"
        },
        "id": "CAzU3VOiSqAq",
        "outputId": "f0397335-60d4-4820-f2e0-2172fdd20cc4"
      },
      "execution_count": 51,
      "outputs": [
        {
          "output_type": "stream",
          "name": "stdout",
          "text": [
            "[[[ 1  2]\n",
            "  [ 3  4]\n",
            "  [ 5  6]]\n",
            "\n",
            " [[ 7  8]\n",
            "  [ 9 10]\n",
            "  [11 12]]]\n"
          ]
        }
      ]
    },
    {
      "cell_type": "markdown",
      "source": [
        "Try converting 1D array with 8 elements to a 2D array with 3 elements in each dimension (will raise an error):"
      ],
      "metadata": {
        "id": "fChZDKm8S71B"
      }
    },
    {
      "cell_type": "code",
      "source": [
        "arr = np.array([1, 2, 3, 4, 5, 6, 7, 8])\n",
        "\n",
        "newarr = arr.reshape(3, 3)\n",
        "\n",
        "print(newarr)"
      ],
      "metadata": {
        "colab": {
          "base_uri": "https://localhost:8080/",
          "height": 211
        },
        "id": "U2ZX7xkoSxSB",
        "outputId": "3572db6a-36bc-4e77-f163-4d2915fbed00"
      },
      "execution_count": 52,
      "outputs": [
        {
          "output_type": "error",
          "ename": "ValueError",
          "evalue": "cannot reshape array of size 8 into shape (3,3)",
          "traceback": [
            "\u001b[0;31m---------------------------------------------------------------------------\u001b[0m",
            "\u001b[0;31mValueError\u001b[0m                                Traceback (most recent call last)",
            "\u001b[0;32m<ipython-input-52-428f107e9370>\u001b[0m in \u001b[0;36m<cell line: 3>\u001b[0;34m()\u001b[0m\n\u001b[1;32m      1\u001b[0m \u001b[0marr\u001b[0m \u001b[0;34m=\u001b[0m \u001b[0mnp\u001b[0m\u001b[0;34m.\u001b[0m\u001b[0marray\u001b[0m\u001b[0;34m(\u001b[0m\u001b[0;34m[\u001b[0m\u001b[0;36m1\u001b[0m\u001b[0;34m,\u001b[0m \u001b[0;36m2\u001b[0m\u001b[0;34m,\u001b[0m \u001b[0;36m3\u001b[0m\u001b[0;34m,\u001b[0m \u001b[0;36m4\u001b[0m\u001b[0;34m,\u001b[0m \u001b[0;36m5\u001b[0m\u001b[0;34m,\u001b[0m \u001b[0;36m6\u001b[0m\u001b[0;34m,\u001b[0m \u001b[0;36m7\u001b[0m\u001b[0;34m,\u001b[0m \u001b[0;36m8\u001b[0m\u001b[0;34m]\u001b[0m\u001b[0;34m)\u001b[0m\u001b[0;34m\u001b[0m\u001b[0;34m\u001b[0m\u001b[0m\n\u001b[1;32m      2\u001b[0m \u001b[0;34m\u001b[0m\u001b[0m\n\u001b[0;32m----> 3\u001b[0;31m \u001b[0mnewarr\u001b[0m \u001b[0;34m=\u001b[0m \u001b[0marr\u001b[0m\u001b[0;34m.\u001b[0m\u001b[0mreshape\u001b[0m\u001b[0;34m(\u001b[0m\u001b[0;36m3\u001b[0m\u001b[0;34m,\u001b[0m \u001b[0;36m3\u001b[0m\u001b[0;34m)\u001b[0m\u001b[0;34m\u001b[0m\u001b[0;34m\u001b[0m\u001b[0m\n\u001b[0m\u001b[1;32m      4\u001b[0m \u001b[0;34m\u001b[0m\u001b[0m\n\u001b[1;32m      5\u001b[0m \u001b[0mprint\u001b[0m\u001b[0;34m(\u001b[0m\u001b[0mnewarr\u001b[0m\u001b[0;34m)\u001b[0m\u001b[0;34m\u001b[0m\u001b[0;34m\u001b[0m\u001b[0m\n",
            "\u001b[0;31mValueError\u001b[0m: cannot reshape array of size 8 into shape (3,3)"
          ]
        }
      ]
    },
    {
      "cell_type": "markdown",
      "source": [
        "Returns Copy or View?"
      ],
      "metadata": {
        "id": "-6BF3isUTEm1"
      }
    },
    {
      "cell_type": "code",
      "source": [
        "arr = np.array([1, 2, 3, 4, 5, 6, 7, 8])\n",
        "\n",
        "print(arr.reshape(2, 4).base)"
      ],
      "metadata": {
        "colab": {
          "base_uri": "https://localhost:8080/"
        },
        "id": "k3KMBli-S82K",
        "outputId": "3d53a4b7-0f56-4d80-8604-fd2add978a9d"
      },
      "execution_count": 53,
      "outputs": [
        {
          "output_type": "stream",
          "name": "stdout",
          "text": [
            "[1 2 3 4 5 6 7 8]\n"
          ]
        }
      ]
    },
    {
      "cell_type": "markdown",
      "source": [
        "Unknown Dimension"
      ],
      "metadata": {
        "id": "EwNhXp9kTRki"
      }
    },
    {
      "cell_type": "code",
      "source": [
        "arr = np.array([1, 2, 3, 4, 5, 6, 7, 8,9,10,11,12])\n",
        "\n",
        "newarr = arr.reshape(2, 2, -1)\n",
        "\n",
        "print(newarr)\n",
        "# Note: We can not pass -1 to more than one dimension."
      ],
      "metadata": {
        "colab": {
          "base_uri": "https://localhost:8080/"
        },
        "id": "SdRxaagpTGkC",
        "outputId": "fc2aab32-7838-4bb7-b26e-b3dfdd6261f1"
      },
      "execution_count": 59,
      "outputs": [
        {
          "output_type": "stream",
          "name": "stdout",
          "text": [
            "[[[ 1  2  3]\n",
            "  [ 4  5  6]]\n",
            "\n",
            " [[ 7  8  9]\n",
            "  [10 11 12]]]\n"
          ]
        }
      ]
    },
    {
      "cell_type": "markdown",
      "source": [
        "Convert the array into a 1D array:"
      ],
      "metadata": {
        "id": "oInip6cKT1Da"
      }
    },
    {
      "cell_type": "markdown",
      "source": [
        "Flattening the arrays"
      ],
      "metadata": {
        "id": "6x5C8ofnTnH0"
      }
    },
    {
      "cell_type": "code",
      "source": [
        "arr = np.array([[1, 2, 3], [4, 5, 6]])\n",
        "\n",
        "newarr = arr.reshape(-1)\n",
        "\n",
        "print(newarr)\n",
        "# Note: There are a lot of functions for changing the shapes of arrays in numpy flatten, ravel and also for rearranging the elements rot90, flip, fliplr, flipud etc. These fall under Intermediate to Advanced section of numpy\n"
      ],
      "metadata": {
        "colab": {
          "base_uri": "https://localhost:8080/"
        },
        "id": "iNN4_ORKTUPz",
        "outputId": "62c5c79d-1672-40a3-fde7-2a7a63395904"
      },
      "execution_count": 58,
      "outputs": [
        {
          "output_type": "stream",
          "name": "stdout",
          "text": [
            "[1 2 3 4 5 6]\n"
          ]
        }
      ]
    },
    {
      "cell_type": "markdown",
      "source": [
        "**NumPy Array Iterating**"
      ],
      "metadata": {
        "id": "RsBcGPeOUWhL"
      }
    },
    {
      "cell_type": "code",
      "source": [
        "arr = np.array([1, 2, 3])\n",
        "\n",
        "for x in arr:\n",
        "  print(x)"
      ],
      "metadata": {
        "colab": {
          "base_uri": "https://localhost:8080/"
        },
        "id": "SoIIwOuVTtf-",
        "outputId": "ec57bba2-0192-440c-81ec-bb581a563658"
      },
      "execution_count": 60,
      "outputs": [
        {
          "output_type": "stream",
          "name": "stdout",
          "text": [
            "1\n",
            "2\n",
            "3\n"
          ]
        }
      ]
    },
    {
      "cell_type": "markdown",
      "source": [
        "Iterating 2-D Arrays"
      ],
      "metadata": {
        "id": "wFSbLPSZUnBo"
      }
    },
    {
      "cell_type": "code",
      "source": [
        "arr = np.array([[1, 2, 3], [4, 5, 6]])\n",
        "\n",
        "for x in arr:\n",
        "  print(x)"
      ],
      "metadata": {
        "colab": {
          "base_uri": "https://localhost:8080/"
        },
        "id": "sjl651TJUfaw",
        "outputId": "6e3e9f9b-d94f-4f02-823c-b277752d57af"
      },
      "execution_count": 64,
      "outputs": [
        {
          "output_type": "stream",
          "name": "stdout",
          "text": [
            "[1 2 3]\n",
            "[4 5 6]\n"
          ]
        }
      ]
    },
    {
      "cell_type": "code",
      "source": [
        "arr = np.array([[1, 2, 3], [4, 5, 6]])\n",
        "\n",
        "for x in arr:\n",
        "  for y in x:\n",
        "    print(y)"
      ],
      "metadata": {
        "colab": {
          "base_uri": "https://localhost:8080/"
        },
        "id": "0yzICPBDUkSX",
        "outputId": "5511c7ac-43b1-4fb6-d5d1-d7b732880268"
      },
      "execution_count": 65,
      "outputs": [
        {
          "output_type": "stream",
          "name": "stdout",
          "text": [
            "1\n",
            "2\n",
            "3\n",
            "4\n",
            "5\n",
            "6\n"
          ]
        }
      ]
    },
    {
      "cell_type": "markdown",
      "source": [
        "Iterating 3-D Arrays"
      ],
      "metadata": {
        "id": "tpU8mQ37U5jX"
      }
    },
    {
      "cell_type": "code",
      "source": [
        "arr = np.array([[[1, 2, 3], [4, 5, 6]], [[7, 8, 9], [10, 11, 12]]])\n",
        "\n",
        "for x in arr:\n",
        "  print(x)"
      ],
      "metadata": {
        "colab": {
          "base_uri": "https://localhost:8080/"
        },
        "id": "QRTBtkWHU02T",
        "outputId": "8a0e8e61-038b-4509-99ab-9f2188f31ad1"
      },
      "execution_count": 67,
      "outputs": [
        {
          "output_type": "stream",
          "name": "stdout",
          "text": [
            "[[1 2 3]\n",
            " [4 5 6]]\n",
            "[[ 7  8  9]\n",
            " [10 11 12]]\n"
          ]
        }
      ]
    },
    {
      "cell_type": "code",
      "source": [
        "arr = np.array([[[1, 2, 3], [4, 5, 6]], [[7, 8, 9], [10, 11, 12]]])\n",
        "\n",
        "for x in arr:\n",
        "  for y in x:\n",
        "    for z in y:\n",
        "      print(z)"
      ],
      "metadata": {
        "colab": {
          "base_uri": "https://localhost:8080/"
        },
        "id": "fBMAd28JU48U",
        "outputId": "dadec1a9-9276-4ad1-ede1-342b8862ca7a"
      },
      "execution_count": 68,
      "outputs": [
        {
          "output_type": "stream",
          "name": "stdout",
          "text": [
            "1\n",
            "2\n",
            "3\n",
            "4\n",
            "5\n",
            "6\n",
            "7\n",
            "8\n",
            "9\n",
            "10\n",
            "11\n",
            "12\n"
          ]
        }
      ]
    },
    {
      "cell_type": "markdown",
      "source": [
        "Iterating Arrays Using **nditer()**"
      ],
      "metadata": {
        "id": "cpSDzKDHVHru"
      }
    },
    {
      "cell_type": "code",
      "source": [
        "arr = np.array([[[1, 2], [3, 4]], [[5, 6], [7, 8]]])\n",
        "\n",
        "for x in np.nditer(arr):\n",
        "  print(x)"
      ],
      "metadata": {
        "colab": {
          "base_uri": "https://localhost:8080/"
        },
        "id": "i93mj9VAVCJM",
        "outputId": "ab2fad41-8d90-432e-919a-b46642cce731"
      },
      "execution_count": 69,
      "outputs": [
        {
          "output_type": "stream",
          "name": "stdout",
          "text": [
            "1\n",
            "2\n",
            "3\n",
            "4\n",
            "5\n",
            "6\n",
            "7\n",
            "8\n"
          ]
        }
      ]
    },
    {
      "cell_type": "markdown",
      "source": [
        "Iterating Array With Different Data Types *op_dtypes*\n",
        "order to enable it in *nditer()* we pass **flags=['buffered']**"
      ],
      "metadata": {
        "id": "vtT5RDl9VYZN"
      }
    },
    {
      "cell_type": "code",
      "source": [
        "arr = np.array([1, 2, 3])\n",
        "\n",
        "for x in np.nditer(arr, flags=['buffered'], op_dtypes=['S']):\n",
        "  print(x)"
      ],
      "metadata": {
        "colab": {
          "base_uri": "https://localhost:8080/"
        },
        "id": "CWXnkH7uVSq5",
        "outputId": "8138006e-a31e-4d49-8982-520327ae4e73"
      },
      "execution_count": 72,
      "outputs": [
        {
          "output_type": "stream",
          "name": "stdout",
          "text": [
            "b'1'\n",
            "b'2'\n",
            "b'3'\n"
          ]
        }
      ]
    },
    {
      "cell_type": "markdown",
      "source": [
        "Iterating With Different Step Size"
      ],
      "metadata": {
        "id": "-O5QwMkAWCFZ"
      }
    },
    {
      "cell_type": "code",
      "source": [
        "arr = np.array([[1, 2, 3, 4], [5, 6, 7, 8]])\n",
        "\n",
        "for x in np.nditer(arr[:, ::2]):\n",
        "  print(x)"
      ],
      "metadata": {
        "colab": {
          "base_uri": "https://localhost:8080/"
        },
        "id": "aoljOr7lVptD",
        "outputId": "67bdd6d7-36a4-4c8e-d367-3839931c8221"
      },
      "execution_count": 73,
      "outputs": [
        {
          "output_type": "stream",
          "name": "stdout",
          "text": [
            "1\n",
            "3\n",
            "5\n",
            "7\n"
          ]
        }
      ]
    },
    {
      "cell_type": "markdown",
      "source": [
        "Enumerated Iteration Using **ndenumerate()**"
      ],
      "metadata": {
        "id": "vvbv8waOWKAz"
      }
    },
    {
      "cell_type": "code",
      "source": [
        "arr = np.array([1, 2, 3])\n",
        "\n",
        "for idx, x in np.ndenumerate(arr):\n",
        "  print(idx, x)"
      ],
      "metadata": {
        "colab": {
          "base_uri": "https://localhost:8080/"
        },
        "id": "tfgiV5N4WEnZ",
        "outputId": "f4c9ce66-2e70-4907-c8ab-dfe85d972d44"
      },
      "execution_count": 74,
      "outputs": [
        {
          "output_type": "stream",
          "name": "stdout",
          "text": [
            "(0,) 1\n",
            "(1,) 2\n",
            "(2,) 3\n"
          ]
        }
      ]
    },
    {
      "cell_type": "code",
      "source": [
        "arr = np.array([[1, 2, 3, 4], [5, 6, 7, 8]])\n",
        "\n",
        "for idx, x in np.ndenumerate(arr):\n",
        "  print(idx, x)"
      ],
      "metadata": {
        "colab": {
          "base_uri": "https://localhost:8080/"
        },
        "id": "qG_aFi01Wegf",
        "outputId": "4121f257-56ff-45d8-bf32-9cd402619c58"
      },
      "execution_count": 75,
      "outputs": [
        {
          "output_type": "stream",
          "name": "stdout",
          "text": [
            "(0, 0) 1\n",
            "(0, 1) 2\n",
            "(0, 2) 3\n",
            "(0, 3) 4\n",
            "(1, 0) 5\n",
            "(1, 1) 6\n",
            "(1, 2) 7\n",
            "(1, 3) 8\n"
          ]
        }
      ]
    },
    {
      "cell_type": "markdown",
      "source": [
        "**Joining NumPy Arrays** *concatenate()*"
      ],
      "metadata": {
        "id": "xDA3L4pzW1QS"
      }
    },
    {
      "cell_type": "code",
      "source": [
        "arr1 = np.array([1, 2, 3])\n",
        "\n",
        "arr2 = np.array([4, 5, 6])\n",
        "\n",
        "arr = np.concatenate((arr1, arr2))\n",
        "\n",
        "print(arr)"
      ],
      "metadata": {
        "colab": {
          "base_uri": "https://localhost:8080/"
        },
        "id": "Eh0G1SxPWjeF",
        "outputId": "e3006082-b3c7-477d-c516-cc8e4495ac8e"
      },
      "execution_count": 76,
      "outputs": [
        {
          "output_type": "stream",
          "name": "stdout",
          "text": [
            "[1 2 3 4 5 6]\n"
          ]
        }
      ]
    },
    {
      "cell_type": "code",
      "source": [
        "arr1 = np.array([[1, 2], [3, 4]])\n",
        "\n",
        "arr2 = np.array([[5, 6], [7, 8]])\n",
        "\n",
        "arr = np.concatenate((arr1, arr2), axis=1)\n",
        "\n",
        "print(arr)#column join"
      ],
      "metadata": {
        "colab": {
          "base_uri": "https://localhost:8080/"
        },
        "id": "WyJzhnDIXD9x",
        "outputId": "ec5a7c9b-6488-49b2-eb87-9e0312b33573"
      },
      "execution_count": 85,
      "outputs": [
        {
          "output_type": "stream",
          "name": "stdout",
          "text": [
            "[[1 2 5 6]\n",
            " [3 4 7 8]]\n"
          ]
        }
      ]
    },
    {
      "cell_type": "markdown",
      "source": [
        "We pass a sequence of arrays that we want to join to the *stack()* method along with the axis. If axis is not explicitly passed it is taken as 0."
      ],
      "metadata": {
        "id": "j_FxJDrPXu2d"
      }
    },
    {
      "cell_type": "code",
      "source": [
        "arr1 = np.array([1, 2, 3])\n",
        "\n",
        "arr2 = np.array([4, 5, 6])\n",
        "\n",
        "arr = np.stack((arr1, arr2), axis=1)\n",
        "\n",
        "print(arr)#column join"
      ],
      "metadata": {
        "colab": {
          "base_uri": "https://localhost:8080/"
        },
        "id": "Egt0HSrYXJSC",
        "outputId": "d9593138-dc25-42a9-9d9c-6ffb62e9a02c"
      },
      "execution_count": 90,
      "outputs": [
        {
          "output_type": "stream",
          "name": "stdout",
          "text": [
            "[[1 4]\n",
            " [2 5]\n",
            " [3 6]]\n"
          ]
        }
      ]
    },
    {
      "cell_type": "markdown",
      "source": [
        "**Stacking Along Rows**\n",
        "NumPy provides a helper function: *hstack()* to stack along rows"
      ],
      "metadata": {
        "id": "42Vlrkl3YJso"
      }
    },
    {
      "cell_type": "code",
      "source": [
        "arr1 = np.array([1, 2, 3])\n",
        "\n",
        "arr2 = np.array([4, 5, 6])\n",
        "\n",
        "arr = np.hstack((arr1, arr2))\n",
        "\n",
        "print(arr)"
      ],
      "metadata": {
        "colab": {
          "base_uri": "https://localhost:8080/"
        },
        "id": "jXJsSF5EXqP3",
        "outputId": "194f468a-cffd-4854-abe8-7de3d532e5ec"
      },
      "execution_count": 91,
      "outputs": [
        {
          "output_type": "stream",
          "name": "stdout",
          "text": [
            "[1 2 3 4 5 6]\n"
          ]
        }
      ]
    },
    {
      "cell_type": "markdown",
      "source": [
        "**Stacking Along Columns** NumPy provides a helper function: *vstack()*  to stack along columns."
      ],
      "metadata": {
        "id": "9e5sicpkYbHy"
      }
    },
    {
      "cell_type": "code",
      "source": [
        "arr1 = np.array([1, 2, 3])\n",
        "\n",
        "arr2 = np.array([4, 5, 6])\n",
        "\n",
        "arr = np.vstack((arr1, arr2))\n",
        "\n",
        "print(arr)"
      ],
      "metadata": {
        "colab": {
          "base_uri": "https://localhost:8080/"
        },
        "id": "O3Iw5pSfYUfF",
        "outputId": "6f7efecd-6d4b-4cd0-c8a6-85ce8405c0ce"
      },
      "execution_count": 92,
      "outputs": [
        {
          "output_type": "stream",
          "name": "stdout",
          "text": [
            "[[1 2 3]\n",
            " [4 5 6]]\n"
          ]
        }
      ]
    },
    {
      "cell_type": "markdown",
      "source": [
        "**Stacking Along Height (depth)** NumPy provides a helper function: *dstack()* to stack along height, which is the same as depth."
      ],
      "metadata": {
        "id": "KffULxvZYnLX"
      }
    },
    {
      "cell_type": "code",
      "source": [
        "arr1 = np.array([1, 2, 3])\n",
        "\n",
        "arr2 = np.array([4, 5, 6])\n",
        "\n",
        "arr = np.dstack((arr1, arr2))\n",
        "\n",
        "print(arr)"
      ],
      "metadata": {
        "colab": {
          "base_uri": "https://localhost:8080/"
        },
        "id": "uDZqchOiYiSu",
        "outputId": "973e7403-8f2d-41fe-ae98-6dbdcc6a7d2d"
      },
      "execution_count": 93,
      "outputs": [
        {
          "output_type": "stream",
          "name": "stdout",
          "text": [
            "[[[1 4]\n",
            "  [2 5]\n",
            "  [3 6]]]\n"
          ]
        }
      ]
    },
    {
      "cell_type": "markdown",
      "source": [
        "**NumPy Splitting Array**"
      ],
      "metadata": {
        "id": "viQ2h0q3ZJiQ"
      }
    },
    {
      "cell_type": "markdown",
      "source": [
        "We use *array_split()* for splitting arrays, we pass it the array we want to split and the number of splits."
      ],
      "metadata": {
        "id": "XpOiapejZUpq"
      }
    },
    {
      "cell_type": "code",
      "source": [
        "arr = np.array([1, 2, 3, 4, 5, 6])\n",
        "\n",
        "newarr = np.array_split(arr, 3)\n",
        "\n",
        "print(newarr)"
      ],
      "metadata": {
        "colab": {
          "base_uri": "https://localhost:8080/"
        },
        "id": "bHNgw5JZZUQQ",
        "outputId": "754b5b85-16ef-4893-ed34-57ea271ed4c4"
      },
      "execution_count": 94,
      "outputs": [
        {
          "output_type": "stream",
          "name": "stdout",
          "text": [
            "[array([1, 2]), array([3, 4]), array([5, 6])]\n"
          ]
        }
      ]
    },
    {
      "cell_type": "code",
      "source": [
        "arr = np.array([1, 2, 3, 4, 5, 6])\n",
        "\n",
        "newarr = np.array_split(arr, 4)\n",
        "\n",
        "print(newarr)"
      ],
      "metadata": {
        "colab": {
          "base_uri": "https://localhost:8080/"
        },
        "id": "QPniDzSbZZuC",
        "outputId": "f2846ea9-ad1e-4de3-f0ca-f476e774b142"
      },
      "execution_count": 95,
      "outputs": [
        {
          "output_type": "stream",
          "name": "stdout",
          "text": [
            "[array([1, 2]), array([3, 4]), array([5]), array([6])]\n"
          ]
        }
      ]
    },
    {
      "cell_type": "markdown",
      "source": [
        "Note: We also have the method *split()* available but it will not adjust the elements when elements are less in source array for splitting like in example above, *array_split()* worked properly but *split()* would fail."
      ],
      "metadata": {
        "id": "vN6yhEoZZuib"
      }
    },
    {
      "cell_type": "markdown",
      "source": [
        "**Split Into Arrays**"
      ],
      "metadata": {
        "id": "bYH1xJpEZ5Bz"
      }
    },
    {
      "cell_type": "markdown",
      "source": [
        "The return value of the array_split() method is an array containing each of the split as an array."
      ],
      "metadata": {
        "id": "GkC5uxDxZ7jg"
      }
    },
    {
      "cell_type": "code",
      "source": [
        "arr = np.array([1, 2, 3, 4, 5, 6])\n",
        "\n",
        "newarr = np.array_split(arr, 3)\n",
        "\n",
        "print(newarr[0])\n",
        "print(newarr[1])\n",
        "print(newarr[2])"
      ],
      "metadata": {
        "colab": {
          "base_uri": "https://localhost:8080/"
        },
        "id": "oeiRlzfeZnjD",
        "outputId": "9b9c8820-70e6-4422-f4e8-2d840d7f6d01"
      },
      "execution_count": 96,
      "outputs": [
        {
          "output_type": "stream",
          "name": "stdout",
          "text": [
            "[1 2]\n",
            "[3 4]\n",
            "[5 6]\n"
          ]
        }
      ]
    },
    {
      "cell_type": "markdown",
      "source": [
        "Splitting 2-D Arrays"
      ],
      "metadata": {
        "id": "mgWF8WOTaXuB"
      }
    },
    {
      "cell_type": "code",
      "source": [
        "arr = np.array([[1, 2], [3, 4], [5, 6], [7, 8], [9, 10], [11, 12]])\n",
        "\n",
        "newarr = np.array_split(arr, 3)\n",
        "\n",
        "print(newarr)"
      ],
      "metadata": {
        "colab": {
          "base_uri": "https://localhost:8080/"
        },
        "id": "zHaf9UgnaSNu",
        "outputId": "e1a1abfe-98f0-427e-f01e-5aed4a2351a4"
      },
      "execution_count": 97,
      "outputs": [
        {
          "output_type": "stream",
          "name": "stdout",
          "text": [
            "[array([[1, 2],\n",
            "       [3, 4]]), array([[5, 6],\n",
            "       [7, 8]]), array([[ 9, 10],\n",
            "       [11, 12]])]\n"
          ]
        }
      ]
    },
    {
      "cell_type": "code",
      "source": [
        "arr = np.array([[1, 2, 3], [4, 5, 6], [7, 8, 9], [10, 11, 12], [13, 14, 15], [16, 17, 18]])\n",
        "\n",
        "newarr = np.array_split(arr, 3)\n",
        "\n",
        "print(newarr)"
      ],
      "metadata": {
        "colab": {
          "base_uri": "https://localhost:8080/"
        },
        "id": "Bp4pgWGsabmj",
        "outputId": "ff619bf0-43c8-494d-a55e-aec30f121591"
      },
      "execution_count": 98,
      "outputs": [
        {
          "output_type": "stream",
          "name": "stdout",
          "text": [
            "[array([[1, 2, 3],\n",
            "       [4, 5, 6]]), array([[ 7,  8,  9],\n",
            "       [10, 11, 12]]), array([[13, 14, 15],\n",
            "       [16, 17, 18]])]\n"
          ]
        }
      ]
    },
    {
      "cell_type": "code",
      "source": [
        "arr = np.array([[1, 2, 3], [4, 5, 6], [7, 8, 9], [10, 11, 12], [13, 14, 15], [16, 17, 18]])\n",
        "\n",
        "newarr = np.array_split(arr, 3, axis=1)\n",
        "\n",
        "print(newarr)"
      ],
      "metadata": {
        "colab": {
          "base_uri": "https://localhost:8080/"
        },
        "id": "W26Y8a-DawjP",
        "outputId": "58136506-e189-4661-cc21-1c59a15a516f"
      },
      "execution_count": 101,
      "outputs": [
        {
          "output_type": "stream",
          "name": "stdout",
          "text": [
            "[array([[ 1],\n",
            "       [ 4],\n",
            "       [ 7],\n",
            "       [10],\n",
            "       [13],\n",
            "       [16]]), array([[ 2],\n",
            "       [ 5],\n",
            "       [ 8],\n",
            "       [11],\n",
            "       [14],\n",
            "       [17]]), array([[ 3],\n",
            "       [ 6],\n",
            "       [ 9],\n",
            "       [12],\n",
            "       [15],\n",
            "       [18]])]\n"
          ]
        }
      ]
    },
    {
      "cell_type": "markdown",
      "source": [
        "An alternate solution is using *hsplit()* opposite of *hstack()*"
      ],
      "metadata": {
        "id": "KKrSBk45bHhw"
      }
    },
    {
      "cell_type": "markdown",
      "source": [
        "Note: Similar alternates to *vstack()* and *dstack()* are available as *vsplit()* and *dsplit()*."
      ],
      "metadata": {
        "id": "kok8_-5Hbce2"
      }
    },
    {
      "cell_type": "code",
      "source": [
        "arr = np.array([[1, 2, 3], [4, 5, 6], [7, 8, 9], [10, 11, 12], [13, 14, 15], [16, 17, 18]])\n",
        "\n",
        "newarr = np.hsplit(arr, 3)\n",
        "\n",
        "print(newarr)"
      ],
      "metadata": {
        "colab": {
          "base_uri": "https://localhost:8080/"
        },
        "id": "GffkEdfQbACt",
        "outputId": "b8763b2b-2671-4fca-95d1-8fa8fc392d12"
      },
      "execution_count": 102,
      "outputs": [
        {
          "output_type": "stream",
          "name": "stdout",
          "text": [
            "[array([[ 1],\n",
            "       [ 4],\n",
            "       [ 7],\n",
            "       [10],\n",
            "       [13],\n",
            "       [16]]), array([[ 2],\n",
            "       [ 5],\n",
            "       [ 8],\n",
            "       [11],\n",
            "       [14],\n",
            "       [17]]), array([[ 3],\n",
            "       [ 6],\n",
            "       [ 9],\n",
            "       [12],\n",
            "       [15],\n",
            "       [18]])]\n"
          ]
        }
      ]
    },
    {
      "cell_type": "markdown",
      "source": [
        "**NumPy Searching Arrays** *where()*"
      ],
      "metadata": {
        "id": "2H5vdK_CbbF-"
      }
    },
    {
      "cell_type": "markdown",
      "source": [
        "Find the indexes where the value is 4"
      ],
      "metadata": {
        "id": "8QNsKnkYcB3T"
      }
    },
    {
      "cell_type": "code",
      "source": [
        "arr = np.array([1, 2, 3, 4, 5, 4, 4])\n",
        "\n",
        "x = np.where(arr == 4)\n",
        "\n",
        "print(x)"
      ],
      "metadata": {
        "colab": {
          "base_uri": "https://localhost:8080/"
        },
        "id": "8BLEmFSrbVWR",
        "outputId": "044f633d-c39a-4f5b-8626-a9bdd8170725"
      },
      "execution_count": 104,
      "outputs": [
        {
          "output_type": "stream",
          "name": "stdout",
          "text": [
            "(array([3, 5, 6]),)\n"
          ]
        }
      ]
    },
    {
      "cell_type": "code",
      "source": [
        "arr = np.array([1, 2, 3, 4, 5, 6, 7, 8])\n",
        "\n",
        "x = np.where(arr%2 == 0)\n",
        "\n",
        "print(x)"
      ],
      "metadata": {
        "colab": {
          "base_uri": "https://localhost:8080/"
        },
        "id": "gI-p3vCyb3ga",
        "outputId": "459e8df3-7f67-49c6-e3f7-34d78c1a9cfd"
      },
      "execution_count": 105,
      "outputs": [
        {
          "output_type": "stream",
          "name": "stdout",
          "text": [
            "(array([1, 3, 5, 7]),)\n"
          ]
        }
      ]
    },
    {
      "cell_type": "code",
      "source": [
        "arr = np.array([1, 2, 3, 4, 5, 6, 7, 8])\n",
        "\n",
        "x = np.where(arr%2 == 1)\n",
        "\n",
        "print(x)"
      ],
      "metadata": {
        "colab": {
          "base_uri": "https://localhost:8080/"
        },
        "id": "D0AtV7COcIeB",
        "outputId": "010a5ca5-d882-4ab2-be01-83a4fe40bf04"
      },
      "execution_count": 106,
      "outputs": [
        {
          "output_type": "stream",
          "name": "stdout",
          "text": [
            "(array([0, 2, 4, 6]),)\n"
          ]
        }
      ]
    },
    {
      "cell_type": "markdown",
      "source": [
        "**Search Sorted**"
      ],
      "metadata": {
        "id": "-5SsW2jscTk0"
      }
    },
    {
      "cell_type": "markdown",
      "source": [
        "The *searchsorted()* method is assumed to be used on sorted arrays"
      ],
      "metadata": {
        "id": "jj-piM8YcWDI"
      }
    },
    {
      "cell_type": "code",
      "source": [
        "arr = np.array([6, 7, 8, 9])\n",
        "\n",
        "x = np.searchsorted(arr, 7)\n",
        "\n",
        "print(x)"
      ],
      "metadata": {
        "colab": {
          "base_uri": "https://localhost:8080/"
        },
        "id": "xbBvu_ItcOxD",
        "outputId": "dfc21e85-19f5-421b-b3f8-f4332e493bb1"
      },
      "execution_count": 107,
      "outputs": [
        {
          "output_type": "stream",
          "name": "stdout",
          "text": [
            "1\n"
          ]
        }
      ]
    },
    {
      "cell_type": "markdown",
      "source": [
        "Search From the Right Side"
      ],
      "metadata": {
        "id": "sTooXF5ucpWx"
      }
    },
    {
      "cell_type": "code",
      "source": [
        "arr = np.array([6, 7, 8, 9])\n",
        "\n",
        "x = np.searchsorted(arr, 7, side='right')\n",
        "\n",
        "print(x)"
      ],
      "metadata": {
        "colab": {
          "base_uri": "https://localhost:8080/"
        },
        "id": "ElKyL5tycbeZ",
        "outputId": "429d82b2-11ef-41a3-b2d5-ed313d9aea0e"
      },
      "execution_count": 108,
      "outputs": [
        {
          "output_type": "stream",
          "name": "stdout",
          "text": [
            "2\n"
          ]
        }
      ]
    },
    {
      "cell_type": "markdown",
      "source": [
        "**Multiple Values**"
      ],
      "metadata": {
        "id": "kIV4cIvgc1pd"
      }
    },
    {
      "cell_type": "code",
      "source": [
        "arr = np.array([1, 3, 5, 7])\n",
        "\n",
        "x = np.searchsorted(arr, [2, 4, 6])\n",
        "\n",
        "print(x)"
      ],
      "metadata": {
        "colab": {
          "base_uri": "https://localhost:8080/"
        },
        "id": "-_BpXbzNctNS",
        "outputId": "c2fd2690-c61a-4c09-8f97-8294e3c8af09"
      },
      "execution_count": 109,
      "outputs": [
        {
          "output_type": "stream",
          "name": "stdout",
          "text": [
            "[1 2 3]\n"
          ]
        }
      ]
    },
    {
      "cell_type": "markdown",
      "source": [
        "**NumPy Sorting Arrays** *sort()*"
      ],
      "metadata": {
        "id": "FhAfIki7eNkz"
      }
    },
    {
      "cell_type": "code",
      "source": [
        "arr = np.array([3, 2, 0, 1])\n",
        "\n",
        "print(np.sort(arr))"
      ],
      "metadata": {
        "colab": {
          "base_uri": "https://localhost:8080/"
        },
        "id": "SGu0ath2c8_2",
        "outputId": "62a5b325-460b-4ca1-e328-0e2ed169bf51"
      },
      "execution_count": 110,
      "outputs": [
        {
          "output_type": "stream",
          "name": "stdout",
          "text": [
            "[0 1 2 3]\n"
          ]
        }
      ]
    },
    {
      "cell_type": "code",
      "source": [
        "arr = np.array(['banana', 'cherry', 'apple'])\n",
        "\n",
        "print(np.sort(arr))"
      ],
      "metadata": {
        "colab": {
          "base_uri": "https://localhost:8080/"
        },
        "id": "gHn82P5XecFo",
        "outputId": "039b63d4-cba7-4cac-cb5d-a0ed72d12239"
      },
      "execution_count": 111,
      "outputs": [
        {
          "output_type": "stream",
          "name": "stdout",
          "text": [
            "['apple' 'banana' 'cherry']\n"
          ]
        }
      ]
    },
    {
      "cell_type": "code",
      "source": [
        "arr = np.array([True, False, True])\n",
        "\n",
        "print(np.sort(arr))"
      ],
      "metadata": {
        "colab": {
          "base_uri": "https://localhost:8080/"
        },
        "id": "q240l2dYeh9B",
        "outputId": "bfce441e-cf28-4839-d145-f2e75f9510f7"
      },
      "execution_count": 112,
      "outputs": [
        {
          "output_type": "stream",
          "name": "stdout",
          "text": [
            "[False  True  True]\n"
          ]
        }
      ]
    },
    {
      "cell_type": "markdown",
      "source": [
        "Sorting a 2-D Array"
      ],
      "metadata": {
        "id": "gLYw2nJienP6"
      }
    },
    {
      "cell_type": "code",
      "source": [
        "arr = np.array([[3, 2, 4], [5, 0, 1]])\n",
        "\n",
        "print(np.sort(arr))"
      ],
      "metadata": {
        "colab": {
          "base_uri": "https://localhost:8080/"
        },
        "id": "eSAqD9JUelGX",
        "outputId": "ee7414f0-ea32-4c7b-dd53-1a0fb0f39a0a"
      },
      "execution_count": 113,
      "outputs": [
        {
          "output_type": "stream",
          "name": "stdout",
          "text": [
            "[[2 3 4]\n",
            " [0 1 5]]\n"
          ]
        }
      ]
    },
    {
      "cell_type": "markdown",
      "source": [
        "**NumPy Filter Array**"
      ],
      "metadata": {
        "id": "Qqm1w4Mne2dG"
      }
    },
    {
      "cell_type": "markdown",
      "source": [
        "A boolean index list is a list of booleans corresponding to indexes in the array."
      ],
      "metadata": {
        "id": "6iBPbFmJfMTP"
      }
    },
    {
      "cell_type": "code",
      "source": [
        "arr = np.array([41, 42, 43, 44])\n",
        "\n",
        "x = [True, False, True, False]\n",
        "\n",
        "newarr = arr[x]\n",
        "\n",
        "print(newarr)"
      ],
      "metadata": {
        "colab": {
          "base_uri": "https://localhost:8080/"
        },
        "id": "J7XmeStqepdD",
        "outputId": "6f5525af-65fc-4e2e-8809-a1e44743c51e"
      },
      "execution_count": 114,
      "outputs": [
        {
          "output_type": "stream",
          "name": "stdout",
          "text": [
            "[41 43]\n"
          ]
        }
      ]
    },
    {
      "cell_type": "markdown",
      "source": [
        "Creating the Filter Array"
      ],
      "metadata": {
        "id": "0xjyCgkhfZpx"
      }
    },
    {
      "cell_type": "code",
      "source": [
        "filter_arr = []\n",
        "\n",
        "# go through each element in arr\n",
        "for element in arr:\n",
        "  # if the element is higher than 42, set the value to True, otherwise False:\n",
        "  if element > 42:\n",
        "    filter_arr.append(True)\n",
        "  else:\n",
        "    filter_arr.append(False)\n",
        "\n",
        "newarr = arr[filter_arr]\n",
        "\n",
        "print(filter_arr)\n",
        "print(newarr)"
      ],
      "metadata": {
        "colab": {
          "base_uri": "https://localhost:8080/"
        },
        "id": "MWAQlzwifE0y",
        "outputId": "7a1c57cf-a0ed-4127-93bb-65ac01ef4d04"
      },
      "execution_count": 115,
      "outputs": [
        {
          "output_type": "stream",
          "name": "stdout",
          "text": [
            "[False, False, True, True]\n",
            "[43 44]\n"
          ]
        }
      ]
    },
    {
      "cell_type": "code",
      "source": [
        "arr = np.array([1, 2, 3, 4, 5, 6, 7])\n",
        "\n",
        "# Create an empty list\n",
        "filter_arr = []\n",
        "\n",
        "# go through each element in arr\n",
        "for element in arr:\n",
        "  # if the element is completely divisble by 2, set the value to True, otherwise False\n",
        "  if element % 2 == 0:\n",
        "    filter_arr.append(True)\n",
        "  else:\n",
        "    filter_arr.append(False)\n",
        "\n",
        "newarr = arr[filter_arr]\n",
        "\n",
        "print(filter_arr)\n",
        "print(newarr)"
      ],
      "metadata": {
        "colab": {
          "base_uri": "https://localhost:8080/"
        },
        "id": "Oc_qgK-Gfkk4",
        "outputId": "d3bebd4d-fa5b-4cd6-adee-612018462720"
      },
      "execution_count": 116,
      "outputs": [
        {
          "output_type": "stream",
          "name": "stdout",
          "text": [
            "[False, True, False, True, False, True, False]\n",
            "[2 4 6]\n"
          ]
        }
      ]
    },
    {
      "cell_type": "code",
      "source": [
        "arr = np.array([41, 42, 43, 44])\n",
        "\n",
        "filter_arr = arr > 42\n",
        "\n",
        "newarr = arr[filter_arr]\n",
        "\n",
        "print(filter_arr)\n",
        "print(newarr)"
      ],
      "metadata": {
        "colab": {
          "base_uri": "https://localhost:8080/"
        },
        "id": "odrqvTLwftcl",
        "outputId": "6cd0d1a2-1ffa-4cca-98eb-c39dd4453a81"
      },
      "execution_count": 118,
      "outputs": [
        {
          "output_type": "stream",
          "name": "stdout",
          "text": [
            "[False False  True  True]\n",
            "[43 44]\n"
          ]
        }
      ]
    },
    {
      "cell_type": "code",
      "source": [
        "arr = np.array([1, 2, 3, 4, 5, 6, 7])\n",
        "\n",
        "filter_arr = arr % 2 == 0\n",
        "\n",
        "newarr = arr[filter_arr]\n",
        "\n",
        "print(filter_arr)\n",
        "print(newarr)"
      ],
      "metadata": {
        "colab": {
          "base_uri": "https://localhost:8080/"
        },
        "id": "waIunHanf7xr",
        "outputId": "4ee61cd6-c761-466f-d6ea-d372d06c4d7b"
      },
      "execution_count": 119,
      "outputs": [
        {
          "output_type": "stream",
          "name": "stdout",
          "text": [
            "[False  True False  True False  True False]\n",
            "[2 4 6]\n"
          ]
        }
      ]
    }
  ]
}