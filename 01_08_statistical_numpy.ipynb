{
  "cells": [
    {
      "cell_type": "markdown",
      "metadata": {
        "id": "view-in-github",
        "colab_type": "text"
      },
      "source": [
        "<a href=\"https://colab.research.google.com/github/Davron030901/Numpy/blob/main/01_08_statistical_numpy.ipynb\" target=\"_parent\"><img src=\"https://colab.research.google.com/assets/colab-badge.svg\" alt=\"Open In Colab\"/></a>"
      ]
    },
    {
      "cell_type": "code",
      "execution_count": null,
      "metadata": {
        "id": "MqSCUBCQCRer"
      },
      "outputs": [],
      "source": [
        "# import relevant libraries\n",
        "import numpy as np"
      ]
    },
    {
      "cell_type": "code",
      "execution_count": null,
      "metadata": {
        "id": "QXpERhHGCRet"
      },
      "outputs": [],
      "source": [
        "# initialize arrayA as a numpy array\n",
        "# representing the scores of participants in a competition\n",
        "scores = np.random.randint(50, 101, 200)"
      ]
    },
    {
      "cell_type": "code",
      "execution_count": null,
      "metadata": {
        "id": "rxJHkobdCReu",
        "outputId": "363c06f1-2368-47fc-bfcd-7e9d977aa5ee",
        "colab": {
          "base_uri": "https://localhost:8080/"
        }
      },
      "outputs": [
        {
          "output_type": "execute_result",
          "data": {
            "text/plain": [
              "74.0"
            ]
          },
          "metadata": {},
          "execution_count": 3
        }
      ],
      "source": [
        "# compute the median of scores\n",
        "np.median(scores)"
      ]
    },
    {
      "cell_type": "code",
      "execution_count": null,
      "metadata": {
        "id": "5nm-4lDyCRev",
        "outputId": "2b689af4-aa30-4c49-a2fd-2b1359685c94",
        "colab": {
          "base_uri": "https://localhost:8080/"
        }
      },
      "outputs": [
        {
          "output_type": "execute_result",
          "data": {
            "text/plain": [
              "75.02"
            ]
          },
          "metadata": {},
          "execution_count": 4
        }
      ],
      "source": [
        "# compute the mean of scores\n",
        "np.mean(scores)"
      ]
    },
    {
      "cell_type": "code",
      "execution_count": null,
      "metadata": {
        "id": "yIp5NjySCRew",
        "outputId": "0de1306f-5da6-4565-8a50-afaa6fbc2b41",
        "colab": {
          "base_uri": "https://localhost:8080/"
        }
      },
      "outputs": [
        {
          "output_type": "execute_result",
          "data": {
            "text/plain": [
              "216.7496"
            ]
          },
          "metadata": {},
          "execution_count": 5
        }
      ],
      "source": [
        "# compute the variance of scores\n",
        "np.var(scores)"
      ]
    },
    {
      "cell_type": "code",
      "execution_count": null,
      "metadata": {
        "id": "2l_I-okRCRew",
        "outputId": "26b8349d-c613-49b4-e1c0-855a8f0665bc",
        "colab": {
          "base_uri": "https://localhost:8080/"
        }
      },
      "outputs": [
        {
          "output_type": "execute_result",
          "data": {
            "text/plain": [
              "14.722418279616972"
            ]
          },
          "metadata": {},
          "execution_count": 6
        }
      ],
      "source": [
        "# compute the standard deviation of scores\n",
        "np.std(scores)"
      ]
    }
  ],
  "metadata": {
    "kernelspec": {
      "display_name": "Python 3",
      "language": "python",
      "name": "python3"
    },
    "language_info": {
      "codemirror_mode": {
        "name": "ipython",
        "version": 3
      },
      "file_extension": ".py",
      "mimetype": "text/x-python",
      "name": "python",
      "nbconvert_exporter": "python",
      "pygments_lexer": "ipython3",
      "version": "3.6.9"
    },
    "colab": {
      "provenance": [],
      "include_colab_link": true
    }
  },
  "nbformat": 4,
  "nbformat_minor": 0
}