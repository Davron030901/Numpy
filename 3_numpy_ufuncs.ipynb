{
  "nbformat": 4,
  "nbformat_minor": 0,
  "metadata": {
    "colab": {
      "provenance": [],
      "authorship_tag": "ABX9TyMQ1EKAEUnQtTQ5zKSWWBVm",
      "include_colab_link": true
    },
    "kernelspec": {
      "name": "python3",
      "display_name": "Python 3"
    },
    "language_info": {
      "name": "python"
    }
  },
  "cells": [
    {
      "cell_type": "markdown",
      "metadata": {
        "id": "view-in-github",
        "colab_type": "text"
      },
      "source": [
        "<a href=\"https://colab.research.google.com/github/Davron030901/Numpy/blob/main/3_numpy_ufuncs.ipynb\" target=\"_parent\"><img src=\"https://colab.research.google.com/assets/colab-badge.svg\" alt=\"Open In Colab\"/></a>"
      ]
    },
    {
      "cell_type": "markdown",
      "source": [
        "**NumPy ufuncs**"
      ],
      "metadata": {
        "id": "kFiG7xM6DoXk"
      }
    },
    {
      "cell_type": "markdown",
      "source": [
        "ufuncs stands for \"Universal Functions\" and they are NumPy functions that operate on the ndarray object."
      ],
      "metadata": {
        "id": "-GggAF1QD5PQ"
      }
    },
    {
      "cell_type": "markdown",
      "source": [
        "ufuncs are used to implement vectorization in NumPy which is way faster than iterating over elements.\n",
        "\n",
        "They also provide broadcasting and additional methods like reduce, accumulate etc. that are very helpful for computation.\n",
        "\n",
        "ufuncs also take additional arguments, like:\n",
        "\n",
        "*where* boolean array or condition defining where the operations should take place.\n",
        "\n",
        "*dtype* defining the return type of elements.\n",
        "\n",
        "*out* output array where the return value should be copied."
      ],
      "metadata": {
        "id": "hiEJ7e55D5nY"
      }
    },
    {
      "cell_type": "markdown",
      "source": [
        "Converting iterative statements into a vector based operation is called vectorization.\n",
        "\n",
        "It is faster as modern CPUs are optimized for such operations.\n",
        "\n",
        "Add the Elements of Two Lists\n",
        "*list 1: [1, 2, 3, 4]*\n",
        "\n",
        "*list 2: [4, 5, 6, 7]*\n",
        "\n",
        "One way of doing it is to iterate over both of the lists and then sum each elements."
      ],
      "metadata": {
        "id": "73dvwk7KEMEC"
      }
    },
    {
      "cell_type": "markdown",
      "source": [
        "Without ufunc, we can use Python's built-in *zip()* method"
      ],
      "metadata": {
        "id": "oBSUrnCEESd6"
      }
    },
    {
      "cell_type": "code",
      "execution_count": 1,
      "metadata": {
        "colab": {
          "base_uri": "https://localhost:8080/"
        },
        "id": "hHYGF3q4Dh8L",
        "outputId": "1ebcf6b2-e2df-4cd2-f797-555eca9312b1"
      },
      "outputs": [
        {
          "output_type": "stream",
          "name": "stdout",
          "text": [
            "[5, 7, 9, 11]\n"
          ]
        }
      ],
      "source": [
        "x = [1, 2, 3, 4]\n",
        "y = [4, 5, 6, 7]\n",
        "z = []\n",
        "\n",
        "for i, j in zip(x, y):\n",
        "  z.append(i + j)\n",
        "print(z)"
      ]
    },
    {
      "cell_type": "markdown",
      "source": [
        "With ufunc, we can use the *add()* function:"
      ],
      "metadata": {
        "id": "sW-dmRADEiFu"
      }
    },
    {
      "cell_type": "code",
      "source": [
        "import numpy as np\n",
        "\n",
        "x = [1, 2, 3, 4]\n",
        "y = [4, 5, 6, 7]\n",
        "z = np.add(x, y)\n",
        "\n",
        "print(z)"
      ],
      "metadata": {
        "colab": {
          "base_uri": "https://localhost:8080/"
        },
        "id": "gLMTDXujEcbO",
        "outputId": "fd33601c-c3f0-4e03-9b74-ebde7af21c06"
      },
      "execution_count": 2,
      "outputs": [
        {
          "output_type": "stream",
          "name": "stdout",
          "text": [
            "[ 5  7  9 11]\n"
          ]
        }
      ]
    },
    {
      "cell_type": "markdown",
      "source": [
        "*Create Your Own ufunc*"
      ],
      "metadata": {
        "id": "_xLSuo9TE5dq"
      }
    },
    {
      "cell_type": "markdown",
      "source": [
        "To create your own ufunc, you have to define a function, like you do with normal functions in Python, then you add it to your NumPy ufunc library with the *frompyfunc()* method.\n",
        "\n",
        "The *frompyfunc()* method takes the following arguments:\n",
        "\n",
        "*function* - the name of the function.\n",
        "\n",
        "*inputs* - the number of input arguments (arrays).\n",
        "\n",
        "*outputs* - the number of output arrays."
      ],
      "metadata": {
        "id": "AQs973aLFAjY"
      }
    },
    {
      "cell_type": "code",
      "source": [
        "def myadd(x, y):\n",
        "  return x+y\n",
        "\n",
        "myadd = np.frompyfunc(myadd, 2, 1)\n",
        "\n",
        "print(myadd([1, 2, 3, 4], [5, 6, 7, 8]))"
      ],
      "metadata": {
        "colab": {
          "base_uri": "https://localhost:8080/"
        },
        "id": "anlZq6UjEmj7",
        "outputId": "0cf695b4-bf63-4e1c-c38a-bf341b01d98b"
      },
      "execution_count": 3,
      "outputs": [
        {
          "output_type": "stream",
          "name": "stdout",
          "text": [
            "[6 8 10 12]\n"
          ]
        }
      ]
    },
    {
      "cell_type": "markdown",
      "source": [
        "*Check if a Function is a ufunc*\n",
        "Check the type of a function to check if it is a ufunc or not.\n",
        "\n",
        "A ufunc should return *<class 'numpy.ufunc'>.*"
      ],
      "metadata": {
        "id": "xH5kNrhwFvgz"
      }
    },
    {
      "cell_type": "code",
      "source": [
        "print(type(np.add))"
      ],
      "metadata": {
        "colab": {
          "base_uri": "https://localhost:8080/"
        },
        "id": "1cbMMiWYFeiR",
        "outputId": "f244c2a6-daea-443a-ffa0-78139c843268"
      },
      "execution_count": 4,
      "outputs": [
        {
          "output_type": "stream",
          "name": "stdout",
          "text": [
            "<class 'numpy.ufunc'>\n"
          ]
        }
      ]
    },
    {
      "cell_type": "markdown",
      "source": [
        "Check the type of another function: *concatenate()*"
      ],
      "metadata": {
        "id": "l8LfGzxtF80-"
      }
    },
    {
      "cell_type": "code",
      "source": [
        "print(type(np.concatenate))"
      ],
      "metadata": {
        "colab": {
          "base_uri": "https://localhost:8080/"
        },
        "id": "gKhAj2b2F26U",
        "outputId": "546a849f-f117-4ae4-dc3a-55d8b4bb7aec"
      },
      "execution_count": 5,
      "outputs": [
        {
          "output_type": "stream",
          "name": "stdout",
          "text": [
            "<class 'numpy._ArrayFunctionDispatcher'>\n"
          ]
        }
      ]
    },
    {
      "cell_type": "markdown",
      "source": [
        "Check the type of something that does not exist. This will produce an error:"
      ],
      "metadata": {
        "id": "Q682eTVrGNs2"
      }
    },
    {
      "cell_type": "code",
      "source": [
        "print(type(np.blahblah))"
      ],
      "metadata": {
        "colab": {
          "base_uri": "https://localhost:8080/",
          "height": 263
        },
        "id": "Zh08OIXhGBlM",
        "outputId": "b3fed2d5-64a0-4600-aab1-fa300130e4a0"
      },
      "execution_count": 7,
      "outputs": [
        {
          "output_type": "error",
          "ename": "AttributeError",
          "evalue": "module 'numpy' has no attribute 'blahblah'",
          "traceback": [
            "\u001b[0;31m---------------------------------------------------------------------------\u001b[0m",
            "\u001b[0;31mAttributeError\u001b[0m                            Traceback (most recent call last)",
            "\u001b[0;32m<ipython-input-7-6d6056cca321>\u001b[0m in \u001b[0;36m<cell line: 1>\u001b[0;34m()\u001b[0m\n\u001b[0;32m----> 1\u001b[0;31m \u001b[0mprint\u001b[0m\u001b[0;34m(\u001b[0m\u001b[0mtype\u001b[0m\u001b[0;34m(\u001b[0m\u001b[0mnp\u001b[0m\u001b[0;34m.\u001b[0m\u001b[0mblahblah\u001b[0m\u001b[0;34m)\u001b[0m\u001b[0;34m)\u001b[0m\u001b[0;34m\u001b[0m\u001b[0;34m\u001b[0m\u001b[0m\n\u001b[0m",
            "\u001b[0;32m/usr/local/lib/python3.10/dist-packages/numpy/__init__.py\u001b[0m in \u001b[0;36m__getattr__\u001b[0;34m(attr)\u001b[0m\n\u001b[1;32m    331\u001b[0m             \u001b[0;32mraise\u001b[0m \u001b[0mRuntimeError\u001b[0m\u001b[0;34m(\u001b[0m\u001b[0;34m\"Tester was removed in NumPy 1.25.\"\u001b[0m\u001b[0;34m)\u001b[0m\u001b[0;34m\u001b[0m\u001b[0;34m\u001b[0m\u001b[0m\n\u001b[1;32m    332\u001b[0m \u001b[0;34m\u001b[0m\u001b[0m\n\u001b[0;32m--> 333\u001b[0;31m         raise AttributeError(\"module {!r} has no attribute \"\n\u001b[0m\u001b[1;32m    334\u001b[0m                              \"{!r}\".format(__name__, attr))\n\u001b[1;32m    335\u001b[0m \u001b[0;34m\u001b[0m\u001b[0m\n",
            "\u001b[0;31mAttributeError\u001b[0m: module 'numpy' has no attribute 'blahblah'"
          ]
        }
      ]
    },
    {
      "cell_type": "markdown",
      "source": [
        "To test if the function is a ufunc in an if statement, use the *numpy.ufunc* value (or np.ufunc if you use np as an alias for numpy):"
      ],
      "metadata": {
        "id": "yakuqlxlG0XI"
      }
    },
    {
      "cell_type": "code",
      "source": [
        "if type(np.add) == np.ufunc:\n",
        "  print('add is ufunc')\n",
        "else:\n",
        "  print('add is not ufunc')"
      ],
      "metadata": {
        "colab": {
          "base_uri": "https://localhost:8080/"
        },
        "id": "KXT9bT1OGGun",
        "outputId": "a27dd586-25d9-442c-9690-ae7983096e20"
      },
      "execution_count": 8,
      "outputs": [
        {
          "output_type": "stream",
          "name": "stdout",
          "text": [
            "add is ufunc\n"
          ]
        }
      ]
    },
    {
      "cell_type": "markdown",
      "source": [
        "**Simple Arithmetic**"
      ],
      "metadata": {
        "id": "UdgpxZkjIC5e"
      }
    },
    {
      "cell_type": "markdown",
      "source": [
        "You could use arithmetic operators *+* *-* * */* directly between NumPy arrays, but this section discusses an extension of the same where we have functions that can take any array-like objects e.g. lists, tuples etc. and perform arithmetic conditionally.\n",
        "\n",
        "Arithmetic Conditionally: means that we can define conditions where the arithmetic operation should happen.\n",
        "\n",
        "All of the discussed arithmetic functions take a *where* parameter in which we can specify that condition."
      ],
      "metadata": {
        "id": "JsvndR-nIHbB"
      }
    },
    {
      "cell_type": "markdown",
      "source": [
        "*Addition*\n",
        "\n",
        "The *add()* function sums the content of two arrays, and return the results in a new array."
      ],
      "metadata": {
        "id": "zcIVhxutIqfp"
      }
    },
    {
      "cell_type": "code",
      "source": [
        "arr1 = np.array([10, 11, 12, 13, 14, 15])\n",
        "arr2 = np.array([20, 21, 22, 23, 24, 25])\n",
        "\n",
        "newarr = np.add(arr1, arr2)\n",
        "\n",
        "print(newarr)"
      ],
      "metadata": {
        "colab": {
          "base_uri": "https://localhost:8080/"
        },
        "id": "vdHz4lnxG7h0",
        "outputId": "3b0f8fcf-8150-4094-a87e-50efd0df45f2"
      },
      "execution_count": 9,
      "outputs": [
        {
          "output_type": "stream",
          "name": "stdout",
          "text": [
            "[30 32 34 36 38 40]\n"
          ]
        }
      ]
    },
    {
      "cell_type": "markdown",
      "source": [
        "*Subtraction*\n",
        "\n",
        "The *subtract()* function subtracts the values from one array with the values from another array, and return the results in a new array."
      ],
      "metadata": {
        "id": "jArTXc1dI33B"
      }
    },
    {
      "cell_type": "code",
      "source": [
        "arr1 = np.array([10, 20, 30, 40, 50, 60])\n",
        "arr2 = np.array([20, 21, 22, 23, 24, 25])\n",
        "\n",
        "newarr = np.subtract(arr1, arr2)\n",
        "\n",
        "print(newarr)"
      ],
      "metadata": {
        "id": "u-LsnXUsIvPC"
      },
      "execution_count": null,
      "outputs": []
    },
    {
      "cell_type": "markdown",
      "source": [
        "*Multiplication*\n",
        "\n",
        "The *multiply()* function multiplies the values from one array with the values from another array, and return the results in a new array."
      ],
      "metadata": {
        "id": "O-GHQdtpJPRV"
      }
    },
    {
      "cell_type": "code",
      "source": [
        "arr1 = np.array([10, 20, 30, 40, 50, 60])\n",
        "arr2 = np.array([20, 21, 22, 23, 24, 25])\n",
        "\n",
        "newarr = np.multiply(arr1, arr2)\n",
        "\n",
        "print(newarr)"
      ],
      "metadata": {
        "colab": {
          "base_uri": "https://localhost:8080/"
        },
        "id": "CiPQ2Uj0Jc5q",
        "outputId": "7642d328-1a67-4033-f4ba-e37fb63637df"
      },
      "execution_count": 10,
      "outputs": [
        {
          "output_type": "stream",
          "name": "stdout",
          "text": [
            "[ 200  420  660  920 1200 1500]\n"
          ]
        }
      ]
    },
    {
      "cell_type": "markdown",
      "source": [
        "*Division*\n",
        "\n",
        "The *divide()* function divides the values from one array with the values from another array, and return the results in a new array.\n",
        "\n"
      ],
      "metadata": {
        "id": "gusw00QdJgyq"
      }
    },
    {
      "cell_type": "code",
      "source": [
        "arr1 = np.array([10, 20, 30, 40, 50, 60])\n",
        "arr2 = np.array([3, 5, 10, 8, 2, 33])\n",
        "\n",
        "newarr = np.divide(arr1, arr2)\n",
        "\n",
        "print(newarr)"
      ],
      "metadata": {
        "colab": {
          "base_uri": "https://localhost:8080/"
        },
        "id": "m-wlTWmpJdhV",
        "outputId": "a7fc674c-f4fd-4b7a-ed00-a112dc5de88f"
      },
      "execution_count": 11,
      "outputs": [
        {
          "output_type": "stream",
          "name": "stdout",
          "text": [
            "[ 3.33333333  4.          3.          5.         25.          1.81818182]\n"
          ]
        }
      ]
    },
    {
      "cell_type": "markdown",
      "source": [
        "*Power*\n",
        "\n",
        "The *power()* function rises the values from the first array to the power of the values of the second array, and return the results in a new array"
      ],
      "metadata": {
        "id": "d3_uYDu5J0nd"
      }
    },
    {
      "cell_type": "code",
      "source": [
        "arr1 = np.array([10, 20, 30, 40, 50, 60])\n",
        "arr2 = np.array([3, 5, 6, 8, 2, 33])\n",
        "\n",
        "newarr = np.power(arr1, arr2)\n",
        "\n",
        "print(newarr)"
      ],
      "metadata": {
        "colab": {
          "base_uri": "https://localhost:8080/"
        },
        "id": "JXFjPUIBJv15",
        "outputId": "ded6c163-8998-406e-c52e-1b97f65860a8"
      },
      "execution_count": 13,
      "outputs": [
        {
          "output_type": "stream",
          "name": "stdout",
          "text": [
            "[         1000       3200000     729000000 6553600000000          2500\n",
            "             0]\n"
          ]
        }
      ]
    },
    {
      "cell_type": "markdown",
      "source": [
        "*Remainder*\n",
        "Both the *mod()* and the *remainder()* functions return the remainder of the values in the first array corresponding to the values in the second array, and return the results in a new array."
      ],
      "metadata": {
        "id": "HNRYbTXmKAG_"
      }
    },
    {
      "cell_type": "code",
      "source": [
        "arr1 = np.array([10, 20, 30, 40, 50, 60])\n",
        "arr2 = np.array([3, 7, 9, 8, 2, 33])\n",
        "\n",
        "newarr = np.mod(arr1, arr2)\n",
        "# newarr = np.remainder(arr1, arr2)\n",
        "print(newarr)"
      ],
      "metadata": {
        "colab": {
          "base_uri": "https://localhost:8080/"
        },
        "id": "JYnHxWukJ698",
        "outputId": "c9f6df15-f52d-4ebc-ac57-42d8d98c31d3"
      },
      "execution_count": 14,
      "outputs": [
        {
          "output_type": "stream",
          "name": "stdout",
          "text": [
            "[ 1  6  3  0  0 27]\n"
          ]
        }
      ]
    },
    {
      "cell_type": "markdown",
      "source": [
        "*Quotient and Mod*\n",
        "\n",
        "The *divmod()* function return both the quotient and the mod. The return value is two arrays, the first array contains the quotient and second array contains the mod."
      ],
      "metadata": {
        "id": "lDL0HdBqKgLK"
      }
    },
    {
      "cell_type": "code",
      "source": [
        "arr1 = np.array([10, 20, 30, 40, 50, 60])\n",
        "arr2 = np.array([3, 7, 9, 8, 2, 33])\n",
        "\n",
        "newarr = np.divmod(arr1, arr2)\n",
        "\n",
        "print(newarr)"
      ],
      "metadata": {
        "colab": {
          "base_uri": "https://localhost:8080/"
        },
        "id": "SbQtOTFzKQlf",
        "outputId": "b2080a75-0cd5-448d-e5ce-7dbd3f30e3e0"
      },
      "execution_count": 16,
      "outputs": [
        {
          "output_type": "stream",
          "name": "stdout",
          "text": [
            "(array([ 3,  2,  3,  5, 25,  1]), array([ 1,  6,  3,  0,  0, 27]))\n"
          ]
        }
      ]
    },
    {
      "cell_type": "markdown",
      "source": [
        "*Absolute Values*\n",
        "\n",
        "Both the *absolute()* and the *abs()* functions do the same absolute operation element-wise but we should use *absolute()* to avoid confusion with python's inbuilt *math.abs()*"
      ],
      "metadata": {
        "id": "aZGAru5DLEUA"
      }
    },
    {
      "cell_type": "code",
      "source": [
        "arr = np.array([-1, -2, 1, 2, 3, -4])\n",
        "\n",
        "newarr = np.absolute(arr)\n",
        "\n",
        "print(newarr)"
      ],
      "metadata": {
        "colab": {
          "base_uri": "https://localhost:8080/"
        },
        "id": "6rthZqc-KXKg",
        "outputId": "54841711-fb88-4f15-b14e-339f1ab0e3f3"
      },
      "execution_count": 17,
      "outputs": [
        {
          "output_type": "stream",
          "name": "stdout",
          "text": [
            "[1 2 1 2 3 4]\n"
          ]
        }
      ]
    },
    {
      "cell_type": "markdown",
      "source": [
        "**Rounding Decimals**"
      ],
      "metadata": {
        "id": "vPNDR808LhcQ"
      }
    },
    {
      "cell_type": "markdown",
      "source": [
        "There are primarily five ways of rounding off decimals in NumPy:\n",
        "\n",
        "\n",
        "*   truncation\n",
        "*   fix\n",
        "*   rounding\n",
        "*   floor\n",
        "*   ceil\n",
        "\n",
        "\n",
        "\n"
      ],
      "metadata": {
        "id": "DsoYddH5Ll0H"
      }
    },
    {
      "cell_type": "markdown",
      "source": [
        "*Truncation*\n",
        "\n",
        "Remove the decimals, and return the float number closest to zero. Use the *trunc()* and *fix()* functions."
      ],
      "metadata": {
        "id": "Wi4mIfj2L6Ff"
      }
    },
    {
      "cell_type": "code",
      "source": [
        "arr = np.trunc([-3.1666, 3.6667])\n",
        "\n",
        "print(arr)"
      ],
      "metadata": {
        "colab": {
          "base_uri": "https://localhost:8080/"
        },
        "id": "VBa87exqLNAc",
        "outputId": "fbdd28d0-cb31-494d-9903-d1dc9130a93b"
      },
      "execution_count": 18,
      "outputs": [
        {
          "output_type": "stream",
          "name": "stdout",
          "text": [
            "[-3.  3.]\n"
          ]
        }
      ]
    },
    {
      "cell_type": "markdown",
      "source": [
        "Same example, using *fix()*"
      ],
      "metadata": {
        "id": "dQm3cgiSMQSg"
      }
    },
    {
      "cell_type": "code",
      "source": [
        "arr = np.fix([-3.1666, 3.6667])\n",
        "\n",
        "print(arr)"
      ],
      "metadata": {
        "colab": {
          "base_uri": "https://localhost:8080/"
        },
        "id": "rWhf3es0MLCl",
        "outputId": "c78c4a08-2573-4bfb-8ccb-5c707f28d8ce"
      },
      "execution_count": 19,
      "outputs": [
        {
          "output_type": "stream",
          "name": "stdout",
          "text": [
            "[-3.  3.]\n"
          ]
        }
      ]
    },
    {
      "cell_type": "markdown",
      "source": [
        "*Rounding*\n",
        "\n",
        "The *around()* function increments preceding digit or decimal by 1 if >=5 else do nothing.\n",
        "\n",
        "E.g. round off to 1 decimal point, 3.16666 is 3.2"
      ],
      "metadata": {
        "id": "zcm5w97jMhrH"
      }
    },
    {
      "cell_type": "code",
      "source": [
        "arr = np.around(3.1666, 2)\n",
        "\n",
        "print(arr)"
      ],
      "metadata": {
        "colab": {
          "base_uri": "https://localhost:8080/"
        },
        "id": "WfoppP_2Mc_6",
        "outputId": "bbe212da-d54c-4491-faf0-e6b84e1f845a"
      },
      "execution_count": 20,
      "outputs": [
        {
          "output_type": "stream",
          "name": "stdout",
          "text": [
            "3.17\n"
          ]
        }
      ]
    },
    {
      "cell_type": "markdown",
      "source": [
        "*Ceil*\n",
        "\n",
        "The *ceil()* function rounds off decimal to nearest upper integer.\n",
        "\n",
        "E.g. ceil of 3.166 is 4."
      ],
      "metadata": {
        "id": "Z5n1zGWnMuCw"
      }
    },
    {
      "cell_type": "code",
      "source": [
        "arr = np.ceil([-3.1666, 3.6667])\n",
        "\n",
        "print(arr)"
      ],
      "metadata": {
        "colab": {
          "base_uri": "https://localhost:8080/"
        },
        "id": "61ABEEyNMrdK",
        "outputId": "5c377d12-001f-4f08-df77-78883a56ee36"
      },
      "execution_count": 21,
      "outputs": [
        {
          "output_type": "stream",
          "name": "stdout",
          "text": [
            "[-3.  4.]\n"
          ]
        }
      ]
    },
    {
      "cell_type": "markdown",
      "source": [
        "**NumPy Logs**"
      ],
      "metadata": {
        "id": "IvWftoR_OQ8P"
      }
    },
    {
      "cell_type": "markdown",
      "source": [
        "NumPy provides functions to perform log at the base 2, e and 10.\n",
        "\n",
        "We will also explore how we can take log for any base by creating a custom ufunc.\n",
        "\n",
        "All of the log functions will place -inf or inf in the elements if the log can not be computed."
      ],
      "metadata": {
        "id": "JAb0AJmjOceQ"
      }
    },
    {
      "cell_type": "markdown",
      "source": [
        "*Log at Base 2*\n",
        "\n",
        "Use the *log2()* function to perform log at the base 2."
      ],
      "metadata": {
        "id": "UObaAw31OlYe"
      }
    },
    {
      "cell_type": "code",
      "source": [
        "arr = np.arange(1, 10) #1,2,3,4,5,6,7,8,9\n",
        "\n",
        "print(np.log2(arr))"
      ],
      "metadata": {
        "colab": {
          "base_uri": "https://localhost:8080/"
        },
        "id": "q8lh0y05M4da",
        "outputId": "f623afe4-c4b7-45c0-c5ef-48519aeab51a"
      },
      "execution_count": 24,
      "outputs": [
        {
          "output_type": "stream",
          "name": "stdout",
          "text": [
            "[0.         1.         1.5849625  2.         2.32192809 2.5849625\n",
            " 2.80735492 3.         3.169925  ]\n"
          ]
        }
      ]
    },
    {
      "cell_type": "markdown",
      "source": [
        "*Log at Base 10*\n",
        "\n",
        "Use the *log10()* function to perform log at the base 10"
      ],
      "metadata": {
        "id": "O62adQ3SO9_b"
      }
    },
    {
      "cell_type": "code",
      "source": [
        "arr = np.arange(1, 10)\n",
        "\n",
        "print(np.log10(arr))"
      ],
      "metadata": {
        "colab": {
          "base_uri": "https://localhost:8080/"
        },
        "id": "H2dOtjxgOqyu",
        "outputId": "e90c4189-fccd-4bdf-c6f7-1ca6c3368f22"
      },
      "execution_count": 25,
      "outputs": [
        {
          "output_type": "stream",
          "name": "stdout",
          "text": [
            "[0.         0.30103    0.47712125 0.60205999 0.69897    0.77815125\n",
            " 0.84509804 0.90308999 0.95424251]\n"
          ]
        }
      ]
    },
    {
      "cell_type": "markdown",
      "source": [
        "*Natural Log, or Log at Base e*\n",
        "\n",
        "Use the *log()* function to perform log at the base e"
      ],
      "metadata": {
        "id": "uynYKmsCPHgD"
      }
    },
    {
      "cell_type": "code",
      "source": [
        "arr = np.arange(1, 10)\n",
        "\n",
        "print(np.log(arr))"
      ],
      "metadata": {
        "colab": {
          "base_uri": "https://localhost:8080/"
        },
        "id": "rLjzXx1NPE0g",
        "outputId": "ea956f81-7433-412c-ed9e-500c0e286167"
      },
      "execution_count": 26,
      "outputs": [
        {
          "output_type": "stream",
          "name": "stdout",
          "text": [
            "[0.         0.69314718 1.09861229 1.38629436 1.60943791 1.79175947\n",
            " 1.94591015 2.07944154 2.19722458]\n"
          ]
        }
      ]
    },
    {
      "cell_type": "markdown",
      "source": [
        "*Log at Any Base*\n",
        "\n",
        "NumPy does not provide any function to take log at any base, so we can use the *frompyfunc()* function along with inbuilt function *math.log()* with two input parameters and one output parameter:"
      ],
      "metadata": {
        "id": "6DIiX4FzPS4V"
      }
    },
    {
      "cell_type": "code",
      "source": [
        "from math import log\n",
        "\n",
        "# def log_asos(x, asos):\n",
        "#     return log(x) / log(asos)\n",
        "nplog = np.frompyfunc(log, 2, 1)\n",
        "\n",
        "print(nplog(100, 15))"
      ],
      "metadata": {
        "colab": {
          "base_uri": "https://localhost:8080/"
        },
        "id": "LKKEsP8GPNd8",
        "outputId": "353640d8-725a-4396-d8cc-8368cf3ccdc9"
      },
      "execution_count": 28,
      "outputs": [
        {
          "output_type": "stream",
          "name": "stdout",
          "text": [
            "1.7005483074552052\n"
          ]
        }
      ]
    },
    {
      "cell_type": "markdown",
      "source": [
        "**NumPy Summations**"
      ],
      "metadata": {
        "id": "9EQh4FNpSLPo"
      }
    },
    {
      "cell_type": "markdown",
      "source": [
        "Addition is done between two arguments whereas summation happens over n elements."
      ],
      "metadata": {
        "id": "k81SR3ZkSPOo"
      }
    },
    {
      "cell_type": "code",
      "source": [
        "arr1 = np.array([1, 2, 3])\n",
        "arr2 = np.array([1, 2, 3])\n",
        "\n",
        "newarr = np.add(arr1, arr2)\n",
        "\n",
        "print(newarr)"
      ],
      "metadata": {
        "colab": {
          "base_uri": "https://localhost:8080/"
        },
        "id": "zaXfMARpPZ3L",
        "outputId": "bfd5362c-e387-42d3-9e1c-0a2fc17b1a13"
      },
      "execution_count": 29,
      "outputs": [
        {
          "output_type": "stream",
          "name": "stdout",
          "text": [
            "[2 4 6]\n"
          ]
        }
      ]
    },
    {
      "cell_type": "markdown",
      "source": [
        "Sum the values in arr1 and the values in arr2"
      ],
      "metadata": {
        "id": "-w-a1lNASbxO"
      }
    },
    {
      "cell_type": "code",
      "source": [
        "arr1 = np.array([1, 2, 3])\n",
        "arr2 = np.array([1, 2, 3])\n",
        "\n",
        "newarr = np.sum([arr1, arr2])\n",
        "\n",
        "print(newarr)"
      ],
      "metadata": {
        "colab": {
          "base_uri": "https://localhost:8080/"
        },
        "id": "eAXEJzwOSTHG",
        "outputId": "edc8b651-1d32-4664-bde0-5fb268c41faf"
      },
      "execution_count": 30,
      "outputs": [
        {
          "output_type": "stream",
          "name": "stdout",
          "text": [
            "12\n"
          ]
        }
      ]
    },
    {
      "cell_type": "markdown",
      "source": [
        "*Summation Over an Axis*\n",
        "\n",
        "If you specify *axis=1*, NumPy will sum the numbers in each array"
      ],
      "metadata": {
        "id": "ZarnvlSvSonC"
      }
    },
    {
      "cell_type": "code",
      "source": [
        "arr1 = np.array([1, 2, 3])\n",
        "arr2 = np.array([1, 2, 3])\n",
        "\n",
        "newarr = np.sum([arr1, arr2], axis=1)\n",
        "\n",
        "print(newarr)"
      ],
      "metadata": {
        "colab": {
          "base_uri": "https://localhost:8080/"
        },
        "id": "rTn4Nyr1SYJp",
        "outputId": "f4dd1596-1efb-41df-c7e4-98e0c8a96d3f"
      },
      "execution_count": 34,
      "outputs": [
        {
          "output_type": "stream",
          "name": "stdout",
          "text": [
            "[6 6]\n"
          ]
        }
      ]
    },
    {
      "cell_type": "code",
      "source": [
        "arr1 = np.array([1, 2, 3])\n",
        "arr2 = np.array([1, 2, 3])\n",
        "\n",
        "newarr = np.sum([arr1, arr2], axis=0)\n",
        "\n",
        "print(newarr)"
      ],
      "metadata": {
        "colab": {
          "base_uri": "https://localhost:8080/"
        },
        "id": "oUDZcamWSwgl",
        "outputId": "95cdadc6-ab34-4670-9822-f08e56e29026"
      },
      "execution_count": 35,
      "outputs": [
        {
          "output_type": "stream",
          "name": "stdout",
          "text": [
            "[2 4 6]\n"
          ]
        }
      ]
    },
    {
      "cell_type": "markdown",
      "source": [
        "*Cummulative Sum*\n",
        "\n",
        "Cummulative sum means partially adding the elements in array.\n",
        "\n",
        "E.g. The partial sum of [1, 2, 3, 4] would be [1, 1+2, 1+2+3, 1+2+3+4] = [1, 3, 6, 10].\n",
        "\n",
        "Perfom partial sum with the cumsum() function."
      ],
      "metadata": {
        "id": "VC2Wncv6TjuD"
      }
    },
    {
      "cell_type": "code",
      "source": [
        "arr = np.array([1, 2, 3])\n",
        "\n",
        "newarr = np.cumsum(arr) # match fibonacci\n",
        "\n",
        "print(newarr)"
      ],
      "metadata": {
        "id": "0kh8BXNnTfR9"
      },
      "execution_count": null,
      "outputs": []
    },
    {
      "cell_type": "markdown",
      "source": [
        "**NumPy Products**"
      ],
      "metadata": {
        "id": "0K8pVyHDUJlS"
      }
    },
    {
      "cell_type": "markdown",
      "source": [
        "To find the product of the elements in an array, use the *prod()* function."
      ],
      "metadata": {
        "id": "EMlOzTFaUOhf"
      }
    },
    {
      "cell_type": "code",
      "source": [
        "arr = np.array([1, 2, 3, 4])\n",
        "\n",
        "x = np.prod(arr) #1*2*3*4 = 24\n",
        "\n",
        "print(x)"
      ],
      "metadata": {
        "colab": {
          "base_uri": "https://localhost:8080/"
        },
        "id": "qpUCV6D-UhPB",
        "outputId": "456579a0-654b-4016-ef25-fb60b5a05e5f"
      },
      "execution_count": 36,
      "outputs": [
        {
          "output_type": "stream",
          "name": "stdout",
          "text": [
            "24\n"
          ]
        }
      ]
    },
    {
      "cell_type": "code",
      "source": [
        "arr1 = np.array([1, 2, 3, 4])\n",
        "arr2 = np.array([5, 6, 7, 8])\n",
        "\n",
        "x = np.prod([arr1, arr2]) #1*2*3*4 * 5*6*7*8 = 4032\n",
        "\n",
        "print(x)"
      ],
      "metadata": {
        "colab": {
          "base_uri": "https://localhost:8080/"
        },
        "id": "7mx5K2tZUh01",
        "outputId": "2a1038d8-77f8-43da-fecc-a9ffd45355cb"
      },
      "execution_count": 37,
      "outputs": [
        {
          "output_type": "stream",
          "name": "stdout",
          "text": [
            "40320\n"
          ]
        }
      ]
    },
    {
      "cell_type": "markdown",
      "source": [
        "*Product Over an Axis*\n",
        "If you specify *axis=1*, NumPy will return the product of each array."
      ],
      "metadata": {
        "id": "pbFcPZVMVJih"
      }
    },
    {
      "cell_type": "code",
      "source": [
        "arr1 = np.array([1, 2, 3, 4])\n",
        "arr2 = np.array([5, 6, 7, 8])\n",
        "\n",
        "newarr = np.prod([arr1, arr2], axis=1)\n",
        "\n",
        "print(newarr)"
      ],
      "metadata": {
        "colab": {
          "base_uri": "https://localhost:8080/"
        },
        "id": "hO7as0qjVCAq",
        "outputId": "734c236f-d3dc-41e9-e551-15007d3da9fc"
      },
      "execution_count": 39,
      "outputs": [
        {
          "output_type": "stream",
          "name": "stdout",
          "text": [
            "[  24 1680]\n"
          ]
        }
      ]
    },
    {
      "cell_type": "markdown",
      "source": [
        "*axis=0*"
      ],
      "metadata": {
        "id": "STnuXuhnVV0l"
      }
    },
    {
      "cell_type": "code",
      "source": [
        "arr1 = np.array([1, 2, 3, 4])\n",
        "arr2 = np.array([5, 6, 7, 8])\n",
        "\n",
        "newarr = np.prod([arr1, arr2], axis=0)\n",
        "\n",
        "print(newarr)"
      ],
      "metadata": {
        "colab": {
          "base_uri": "https://localhost:8080/"
        },
        "id": "3oG1Ul59VN_w",
        "outputId": "2958f84f-8b91-41c8-95c7-d1ed5b0f2d32"
      },
      "execution_count": 40,
      "outputs": [
        {
          "output_type": "stream",
          "name": "stdout",
          "text": [
            "[ 5 12 21 32]\n"
          ]
        }
      ]
    },
    {
      "cell_type": "markdown",
      "source": [
        "*Cummulative product* means taking the product partially.\n",
        "\n",
        "E.g. The partial product of [1, 2, 3, 4] is [1, 1*2, 1*2*3, 1*2*3*4] = [1, 2, 6, 24]\n",
        "\n",
        "Perfom partial sum with the *cumprod()* function."
      ],
      "metadata": {
        "id": "zQ4ytxuQVdJu"
      }
    },
    {
      "cell_type": "code",
      "source": [
        "arr = np.array([5, 6, 7, 8])\n",
        "\n",
        "newarr = np.cumprod(arr)  # cummulative product\n",
        "\n",
        "print(newarr)"
      ],
      "metadata": {
        "colab": {
          "base_uri": "https://localhost:8080/"
        },
        "id": "yTR5G_HSVTUL",
        "outputId": "18092677-e8ea-4995-f2de-dfc870d84f51"
      },
      "execution_count": 41,
      "outputs": [
        {
          "output_type": "stream",
          "name": "stdout",
          "text": [
            "[   5   30  210 1680]\n"
          ]
        }
      ]
    },
    {
      "cell_type": "markdown",
      "source": [
        "**NumPy Differences**"
      ],
      "metadata": {
        "id": "O2wYPtbHWHPH"
      }
    },
    {
      "cell_type": "markdown",
      "source": [
        "A discrete difference means subtracting two successive elements.\n",
        "\n",
        "E.g. for [1, 2, 3, 4], the discrete difference would be [2-1, 3-2, 4-3] = [1, 1, 1]\n",
        "\n",
        "To find the discrete difference, use the *diff()* function."
      ],
      "metadata": {
        "id": "RZvKbDSUWKZu"
      }
    },
    {
      "cell_type": "code",
      "source": [
        "arr = np.array([10, 15, 25, 5])\n",
        "\n",
        "newarr = np.diff(arr)\n",
        "\n",
        "print(newarr)"
      ],
      "metadata": {
        "colab": {
          "base_uri": "https://localhost:8080/"
        },
        "id": "x08OfXf2Vkrl",
        "outputId": "48c35c58-d293-4463-eb70-b6898be8b913"
      },
      "execution_count": 42,
      "outputs": [
        {
          "output_type": "stream",
          "name": "stdout",
          "text": [
            "[  5  10 -20]\n"
          ]
        }
      ]
    },
    {
      "cell_type": "markdown",
      "source": [
        "We can perform this operation repeatedly by giving parameter n.\n",
        "\n",
        "E.g. for [1, 2, 3, 4], the discrete difference with n = 2 would be [2-1, 3-2, 4-3] = [1, 1, 1] , then, since n=2, we will do it once more, with the new result: [1-1, 1-1] = [0, 0]"
      ],
      "metadata": {
        "id": "lCoeyrpPWyTW"
      }
    },
    {
      "cell_type": "code",
      "source": [
        "arr = np.array([10, 15, 25, 5])\n",
        "\n",
        "newarr = np.diff(arr, n=2)\n",
        "\n",
        "print(newarr)"
      ],
      "metadata": {
        "colab": {
          "base_uri": "https://localhost:8080/"
        },
        "id": "Tb7SUbN6WezR",
        "outputId": "8a8fc309-dd05-413c-ca63-c3918d2eb5f4"
      },
      "execution_count": 43,
      "outputs": [
        {
          "output_type": "stream",
          "name": "stdout",
          "text": [
            "[  5 -30]\n"
          ]
        }
      ]
    },
    {
      "cell_type": "markdown",
      "source": [
        "**NumPy LCM Lowest Common Multiple**"
      ],
      "metadata": {
        "id": "_uvXUgUAXH61"
      }
    },
    {
      "cell_type": "markdown",
      "source": [
        "The Lowest Common Multiple is the smallest number that is a common multiple of two numbers."
      ],
      "metadata": {
        "id": "0_ZEzKbbXPBY"
      }
    },
    {
      "cell_type": "code",
      "source": [
        "num1 = 4\n",
        "num2 = 6\n",
        "\n",
        "x = np.lcm(num1, num2) #(4*3=12 and 6*2=12) EKUK\n",
        "\n",
        "print(x)"
      ],
      "metadata": {
        "colab": {
          "base_uri": "https://localhost:8080/"
        },
        "id": "L15n_Z_aW1ga",
        "outputId": "2b3e09e3-d71d-45ae-8be7-d0e3041e80a4"
      },
      "execution_count": 44,
      "outputs": [
        {
          "output_type": "stream",
          "name": "stdout",
          "text": [
            "12\n"
          ]
        }
      ]
    },
    {
      "cell_type": "markdown",
      "source": [
        "*Finding LCM in Arrays*\n",
        "To find the Lowest Common Multiple of all values in an array, you can use the *reduce()* method.\n",
        "\n",
        "The *reduce()* method will use the ufunc, in this case the *lcm()* function, on each element, and reduce the array by one dimension."
      ],
      "metadata": {
        "id": "MVsXvfobXgEf"
      }
    },
    {
      "cell_type": "code",
      "source": [
        "arr = np.array([3, 6, 9])\n",
        "\n",
        "x = np.lcm.reduce(arr)\n",
        "\n",
        "print(x)"
      ],
      "metadata": {
        "colab": {
          "base_uri": "https://localhost:8080/"
        },
        "id": "S4Q_6ik5XRPR",
        "outputId": "0ad73ae1-17b3-4b95-b4cd-90310db425ca"
      },
      "execution_count": 45,
      "outputs": [
        {
          "output_type": "stream",
          "name": "stdout",
          "text": [
            "18\n"
          ]
        }
      ]
    },
    {
      "cell_type": "markdown",
      "source": [
        "Find the LCM of all values of an array where the array contains all integers from 1 to 10"
      ],
      "metadata": {
        "id": "87Vudgg8X40I"
      }
    },
    {
      "cell_type": "code",
      "source": [
        "arr = np.arange(1, 11) #1,2,3,4,5,6,7,8,9,10\n",
        "\n",
        "x = np.lcm.reduce(arr)\n",
        "\n",
        "print(x)"
      ],
      "metadata": {
        "colab": {
          "base_uri": "https://localhost:8080/"
        },
        "id": "U7FyR50bXpmi",
        "outputId": "4d68d6f2-50c6-4bc3-8ecb-3086aae979e7"
      },
      "execution_count": 47,
      "outputs": [
        {
          "output_type": "stream",
          "name": "stdout",
          "text": [
            "2520\n"
          ]
        }
      ]
    },
    {
      "cell_type": "markdown",
      "source": [
        "**NumPy GCD Greatest Common Denominator**"
      ],
      "metadata": {
        "id": "J5rc-7NZYFkd"
      }
    },
    {
      "cell_type": "markdown",
      "source": [
        "The GCD (Greatest Common Denominator), also known as HCF (Highest Common Factor) is the biggest number that is a common factor of both of the numbers."
      ],
      "metadata": {
        "id": "CFfWOtcSYK5v"
      }
    },
    {
      "cell_type": "code",
      "source": [
        "num1 = 6\n",
        "num2 = 9\n",
        "\n",
        "x = np.gcd(num1, num2)#(6/3=2 and 9/3=3)\n",
        "\n",
        "print(x)"
      ],
      "metadata": {
        "colab": {
          "base_uri": "https://localhost:8080/"
        },
        "id": "JzZ3Z78vXt66",
        "outputId": "5e541c7c-e723-4497-a8f0-60df594d1ae1"
      },
      "execution_count": 48,
      "outputs": [
        {
          "output_type": "stream",
          "name": "stdout",
          "text": [
            "3\n"
          ]
        }
      ]
    },
    {
      "cell_type": "markdown",
      "source": [
        "*Finding GCD in Arrays*\n",
        "\n",
        "To find the Highest Common Factor of all values in an array, you can use the *reduce()* method.\n",
        "\n",
        "The *reduce()* method will use the ufunc, in this case the *gcd()* function, on each element, and reduce the array by one dimension."
      ],
      "metadata": {
        "id": "QGCTIulpYVDK"
      }
    },
    {
      "cell_type": "code",
      "source": [
        "arr = np.array([20, 8, 32, 36, 16])\n",
        "\n",
        "x = np.gcd.reduce(arr)\n",
        "\n",
        "print(x)"
      ],
      "metadata": {
        "colab": {
          "base_uri": "https://localhost:8080/"
        },
        "id": "7ireVMGAYOsi",
        "outputId": "096dd2ed-5a8b-4c24-ab2e-753d1783c2ac"
      },
      "execution_count": 49,
      "outputs": [
        {
          "output_type": "stream",
          "name": "stdout",
          "text": [
            "4\n"
          ]
        }
      ]
    },
    {
      "cell_type": "markdown",
      "source": [
        "**NumPy Trigonometric Functions**"
      ],
      "metadata": {
        "id": "95QjjyKQaK0I"
      }
    },
    {
      "cell_type": "markdown",
      "source": [
        "NumPy provides the ufuncs *sin()*, *cos()* and *tan()* that take values in radians and produce the corresponding sin, cos and tan values."
      ],
      "metadata": {
        "id": "aKb6cSilaNt2"
      }
    },
    {
      "cell_type": "code",
      "source": [
        "x = np.sin(np.pi/2)\n",
        "\n",
        "print(x)"
      ],
      "metadata": {
        "colab": {
          "base_uri": "https://localhost:8080/"
        },
        "id": "HrILG_TOYjkV",
        "outputId": "486db058-0913-4ceb-97ad-6fe72f5fec96"
      },
      "execution_count": 50,
      "outputs": [
        {
          "output_type": "stream",
          "name": "stdout",
          "text": [
            "1.0\n"
          ]
        }
      ]
    },
    {
      "cell_type": "markdown",
      "source": [
        "Find sine values for all of the values in arr"
      ],
      "metadata": {
        "id": "F-5UiKpEak7v"
      }
    },
    {
      "cell_type": "code",
      "source": [
        "arr = np.array([np.pi/2, np.pi/3, np.pi/4, np.pi/5])\n",
        "\n",
        "x = np.sin(arr)\n",
        "\n",
        "print(x)"
      ],
      "metadata": {
        "colab": {
          "base_uri": "https://localhost:8080/"
        },
        "id": "BKBWz3p3adrl",
        "outputId": "84a81a0f-4415-4ed6-f6c0-e4a2e1f69252"
      },
      "execution_count": 51,
      "outputs": [
        {
          "output_type": "stream",
          "name": "stdout",
          "text": [
            "[1.         0.8660254  0.70710678 0.58778525]\n"
          ]
        }
      ]
    },
    {
      "cell_type": "markdown",
      "source": [
        "**Convert Degrees Into Radians**\n",
        "By default all of the trigonometric functions take radians as parameters but we can convert radians to degrees and vice versa as well in NumPy.\n",
        "\n",
        "Note: radians values are pi/180 * degree_values."
      ],
      "metadata": {
        "id": "RT4sgqmjbEm_"
      }
    },
    {
      "cell_type": "code",
      "source": [
        "arr = np.array([90, 180, 270, 360])\n",
        "\n",
        "x = np.deg2rad(arr)\n",
        "\n",
        "print(x)"
      ],
      "metadata": {
        "colab": {
          "base_uri": "https://localhost:8080/"
        },
        "id": "-PnUckO_ai0L",
        "outputId": "a98df6cf-5c66-4093-a67c-d6a90fa30c75"
      },
      "execution_count": 52,
      "outputs": [
        {
          "output_type": "stream",
          "name": "stdout",
          "text": [
            "[1.57079633 3.14159265 4.71238898 6.28318531]\n"
          ]
        }
      ]
    },
    {
      "cell_type": "markdown",
      "source": [
        "Radians to Degrees"
      ],
      "metadata": {
        "id": "HdS9d5EQbTKq"
      }
    },
    {
      "cell_type": "code",
      "source": [
        "arr = np.array([np.pi/2, np.pi, 1.5*np.pi, 2*np.pi])\n",
        "\n",
        "x = np.rad2deg(arr)\n",
        "\n",
        "print(x)"
      ],
      "metadata": {
        "colab": {
          "base_uri": "https://localhost:8080/"
        },
        "id": "aIk2BpbkbNwf",
        "outputId": "cfafaf92-b28d-4c16-b4e6-3ffc97d2dca2"
      },
      "execution_count": 53,
      "outputs": [
        {
          "output_type": "stream",
          "name": "stdout",
          "text": [
            "[ 90. 180. 270. 360.]\n"
          ]
        }
      ]
    },
    {
      "cell_type": "markdown",
      "source": [
        "Finding Angles\n",
        "Finding angles from values of sine, cos, tan. E.g. sin, cos and tan *inverse (arcsin, arccos, arctan)*.\n",
        "\n",
        "NumPy provides ufuncs *arcsin(), arccos() and arctan()* that produce radian values for corresponding sin, cos and tan values given."
      ],
      "metadata": {
        "id": "UePn262TcGbO"
      }
    },
    {
      "cell_type": "code",
      "source": [
        "x = np.arcsin(1.0)\n",
        "\n",
        "print(x)"
      ],
      "metadata": {
        "colab": {
          "base_uri": "https://localhost:8080/"
        },
        "id": "ahsGn0FNbRqV",
        "outputId": "b95dc7c2-df46-43d4-fc22-6f25608e9a00"
      },
      "execution_count": 54,
      "outputs": [
        {
          "output_type": "stream",
          "name": "stdout",
          "text": [
            "1.5707963267948966\n"
          ]
        }
      ]
    },
    {
      "cell_type": "markdown",
      "source": [
        "Angles of Each Value in Arrays"
      ],
      "metadata": {
        "id": "3zzPnG-_ciLA"
      }
    },
    {
      "cell_type": "code",
      "source": [
        "arr = np.array([1, -1, 0.1])\n",
        "\n",
        "x = np.arcsin(arr)\n",
        "\n",
        "print(x)"
      ],
      "metadata": {
        "colab": {
          "base_uri": "https://localhost:8080/"
        },
        "id": "gjERP5hFcQpz",
        "outputId": "f4db3867-a05a-494a-c3f2-1df0af6929ed"
      },
      "execution_count": 55,
      "outputs": [
        {
          "output_type": "stream",
          "name": "stdout",
          "text": [
            "[ 1.57079633 -1.57079633  0.10016742]\n"
          ]
        }
      ]
    },
    {
      "cell_type": "markdown",
      "source": [
        "**Hypotenues**\n",
        "\n",
        "Finding hypotenues using pythagoras theorem in NumPy.\n",
        "\n",
        "NumPy provides the *hypot()* function that takes the base and perpendicular values and produces hypotenues based on pythagoras theorem."
      ],
      "metadata": {
        "id": "CMlkSb6ucsu7"
      }
    },
    {
      "cell_type": "code",
      "source": [
        "base = 3\n",
        "perp = 4\n",
        "\n",
        "x = np.hypot(base, perp)\n",
        "\n",
        "print(x)"
      ],
      "metadata": {
        "colab": {
          "base_uri": "https://localhost:8080/"
        },
        "id": "gbHHWXrxclti",
        "outputId": "f8d98d33-064e-410a-ca95-8bfaf0ecfeb4"
      },
      "execution_count": 56,
      "outputs": [
        {
          "output_type": "stream",
          "name": "stdout",
          "text": [
            "5.0\n"
          ]
        }
      ]
    },
    {
      "cell_type": "markdown",
      "source": [
        "**NumPy Hyperbolic Functions**"
      ],
      "metadata": {
        "id": "J-fz_A0sdYHi"
      }
    },
    {
      "cell_type": "markdown",
      "source": [
        "NumPy provides the ufuncs *sinh(), cosh() and tanh()* that take values in radians and produce the corresponding sinh, cosh and tanh values.."
      ],
      "metadata": {
        "id": "36RLhQlHdpVl"
      }
    },
    {
      "cell_type": "code",
      "source": [
        "x = np.sinh(np.pi/2)\n",
        "\n",
        "print(x)"
      ],
      "metadata": {
        "colab": {
          "base_uri": "https://localhost:8080/"
        },
        "id": "OhISNlLXdAKO",
        "outputId": "e07b37b0-ee2a-45e9-f7aa-5f612f770f5f"
      },
      "execution_count": 57,
      "outputs": [
        {
          "output_type": "stream",
          "name": "stdout",
          "text": [
            "2.3012989023072947\n"
          ]
        }
      ]
    },
    {
      "cell_type": "code",
      "source": [
        "arr = np.array([np.pi/2, np.pi/3, np.pi/4, np.pi/5])\n",
        "\n",
        "x = np.cosh(arr)\n",
        "\n",
        "print(x)"
      ],
      "metadata": {
        "colab": {
          "base_uri": "https://localhost:8080/"
        },
        "id": "8d2B7eJBduIn",
        "outputId": "f21b29af-7788-40d0-8043-23d1f4625b61"
      },
      "execution_count": 58,
      "outputs": [
        {
          "output_type": "stream",
          "name": "stdout",
          "text": [
            "[2.50917848 1.60028686 1.32460909 1.20397209]\n"
          ]
        }
      ]
    },
    {
      "cell_type": "markdown",
      "source": [
        "*Finding angles* from values of hyperbolic sine, cos, tan. E.g. sinh, cosh and tanh *inverse (arcsinh, arccosh, arctanh)*.\n",
        "\n",
        "Numpy provides ufuncs *arcsinh(), arccosh() and arctanh()* that produce radian values for corresponding sinh, cosh and tanh values given."
      ],
      "metadata": {
        "id": "KdaWDMLkeS17"
      }
    },
    {
      "cell_type": "code",
      "source": [
        "x = np.arcsinh(1.0)\n",
        "\n",
        "print(x)"
      ],
      "metadata": {
        "colab": {
          "base_uri": "https://localhost:8080/"
        },
        "id": "ScRaswCbeNc4",
        "outputId": "90ed1907-223d-4bc4-88ee-c01740a78bf0"
      },
      "execution_count": 59,
      "outputs": [
        {
          "output_type": "stream",
          "name": "stdout",
          "text": [
            "0.881373587019543\n"
          ]
        }
      ]
    },
    {
      "cell_type": "markdown",
      "source": [
        "Angles of Each Value in Arrays"
      ],
      "metadata": {
        "id": "d4pPhu8_efX8"
      }
    },
    {
      "cell_type": "code",
      "source": [
        "arr = np.array([0.1, 0.2, 0.5])\n",
        "\n",
        "x = np.arctanh(arr)\n",
        "\n",
        "print(x)"
      ],
      "metadata": {
        "colab": {
          "base_uri": "https://localhost:8080/"
        },
        "id": "9Sbx3ePRec9A",
        "outputId": "18ad53e9-470c-4339-e295-bab7e219b64f"
      },
      "execution_count": 60,
      "outputs": [
        {
          "output_type": "stream",
          "name": "stdout",
          "text": [
            "[0.10033535 0.20273255 0.54930614]\n"
          ]
        }
      ]
    },
    {
      "cell_type": "markdown",
      "source": [
        "**NumPy Set Operations**"
      ],
      "metadata": {
        "id": "BQJdUsueev23"
      }
    },
    {
      "cell_type": "markdown",
      "source": [
        "A set in mathematics is a collection of unique elements.\n",
        "\n",
        "Sets are used for operations involving frequent intersection, union and difference operations.\n",
        "\n",
        "*Create Sets in NumPy*\n",
        "We can use NumPy's *unique()* method to find unique elements from any array. E.g. create a set array, but remember that the set arrays should only be 1-D arrays.\n",
        "\n"
      ],
      "metadata": {
        "id": "bDO52yICe1V2"
      }
    },
    {
      "cell_type": "code",
      "source": [
        "arr = np.array([1, 1, 1, 2, 3, 4, 5, 5, 6, 7])\n",
        "\n",
        "x = np.unique(arr)\n",
        "\n",
        "print(x)"
      ],
      "metadata": {
        "colab": {
          "base_uri": "https://localhost:8080/"
        },
        "id": "hjoHoCwWeilk",
        "outputId": "a8711122-fe36-403b-e314-14e82afb63dc"
      },
      "execution_count": 61,
      "outputs": [
        {
          "output_type": "stream",
          "name": "stdout",
          "text": [
            "[1 2 3 4 5 6 7]\n"
          ]
        }
      ]
    },
    {
      "cell_type": "markdown",
      "source": [
        "Finding Union\n",
        "To find the unique values of two arrays, use the *union1d()* method."
      ],
      "metadata": {
        "id": "FnowpLoYfzmu"
      }
    },
    {
      "cell_type": "code",
      "source": [
        "arr1 = np.array([1, 2, 3, 4])\n",
        "arr2 = np.array([3, 4, 5, 6])\n",
        "\n",
        "newarr = np.union1d(arr1, arr2)\n",
        "\n",
        "print(newarr)"
      ],
      "metadata": {
        "colab": {
          "base_uri": "https://localhost:8080/"
        },
        "id": "2FDVw_1BfNR2",
        "outputId": "04bda753-f266-4850-88be-d2eaa1a3256a"
      },
      "execution_count": 62,
      "outputs": [
        {
          "output_type": "stream",
          "name": "stdout",
          "text": [
            "[1 2 3 4 5 6]\n"
          ]
        }
      ]
    },
    {
      "cell_type": "markdown",
      "source": [
        "*Finding Intersection*\n",
        "\n",
        "To find only the values that are present in both arrays, use *the intersect1d()* method."
      ],
      "metadata": {
        "id": "q1S8OSGxgHzU"
      }
    },
    {
      "cell_type": "code",
      "source": [
        "arr1 = np.array([1, 2, 3, 4])\n",
        "arr2 = np.array([3, 4, 5, 6])\n",
        "\n",
        "newarr = np.intersect1d(arr1, arr2, assume_unique=True)\n",
        "\n",
        "print(newarr)"
      ],
      "metadata": {
        "colab": {
          "base_uri": "https://localhost:8080/"
        },
        "id": "iG4sPcoff7bi",
        "outputId": "a52a1700-f461-427f-8e5a-fa465f0d455f"
      },
      "execution_count": 63,
      "outputs": [
        {
          "output_type": "stream",
          "name": "stdout",
          "text": [
            "[3 4]\n"
          ]
        }
      ]
    },
    {
      "cell_type": "markdown",
      "source": [
        "Note: the *intersect1d()* method takes an optional argument assume_unique, which if set to True can speed up computation. It should always be set to True when dealing with sets.\n",
        "\n",
        "*Finding Difference*\n",
        "\n",
        "To find only the values in the first set that is NOT present in the seconds set, use the *setdiff1d()* method."
      ],
      "metadata": {
        "id": "h6qsFawggmGT"
      }
    },
    {
      "cell_type": "code",
      "source": [
        "set1 = np.array([1, 2, 3, 4])\n",
        "set2 = np.array([3, 4, 5, 6])\n",
        "\n",
        "newarr = np.setdiff1d(set2, set1, assume_unique=True)\n",
        "\n",
        "print(newarr)"
      ],
      "metadata": {
        "colab": {
          "base_uri": "https://localhost:8080/"
        },
        "id": "35Lg59ElgXDb",
        "outputId": "c9ae89de-4afb-4099-e139-4486cedcbad8"
      },
      "execution_count": 65,
      "outputs": [
        {
          "output_type": "stream",
          "name": "stdout",
          "text": [
            "[5 6]\n"
          ]
        }
      ]
    },
    {
      "cell_type": "markdown",
      "source": [
        "Note: the *setdiff1d()* method takes an optional argument assume_unique, which if set to True can speed up computation. It should always be set to True when dealing with sets.\n",
        "\n",
        "*Finding Symmetric Difference*\n",
        "\n",
        "To find only the values that are NOT present in BOTH sets, use the *setxor1d()* method."
      ],
      "metadata": {
        "id": "f6ht8pbDhXkY"
      }
    },
    {
      "cell_type": "code",
      "source": [
        "set1 = np.array([1, 2, 3, 4])\n",
        "set2 = np.array([3, 4, 5, 6])\n",
        "\n",
        "newarr = np.setxor1d(set1, set2, assume_unique=True)\n",
        "\n",
        "print(newarr)"
      ],
      "metadata": {
        "colab": {
          "base_uri": "https://localhost:8080/"
        },
        "id": "_y4qOTxXhL4t",
        "outputId": "c0ee4ad3-c937-4903-874f-ab0c798532ff"
      },
      "execution_count": 66,
      "outputs": [
        {
          "output_type": "stream",
          "name": "stdout",
          "text": [
            "[1 2 5 6]\n"
          ]
        }
      ]
    },
    {
      "cell_type": "markdown",
      "source": [
        "Note: the setxor1d() method takes an optional argument assume_unique, which if set to True can speed up computation. It should always be set to True when dealing with sets."
      ],
      "metadata": {
        "id": "z_OOuoqUhxEe"
      }
    }
  ]
}